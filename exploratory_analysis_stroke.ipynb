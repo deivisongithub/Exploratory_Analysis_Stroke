{
 "cells": [
  {
   "cell_type": "markdown",
   "metadata": {
    "id": "DKzpfmFi4LHZ"
   },
   "source": [
    "# Introdução à Ciência de Dados - UFPB\n",
    "Professor: Yuri Malheiros\n",
    "\n",
    "Projeto realizado como requisito parcial para conclusão da disciplina de ICD\n",
    "\n",
    "Alunos: \n",
    "\n",
    "    Deivison Rodrigues Jordão\n",
    "    Lucas Miranda de Aguiar\n",
    "    Filipe de Medeiros Santos\n",
    "    "
   ]
  },
  {
   "cell_type": "code",
   "execution_count": 1,
   "metadata": {},
   "outputs": [],
   "source": [
    "import pandas as pd\n",
    "import numpy as np\n",
    "import seaborn as sns\n",
    "import matplotlib.pyplot as plt\n",
    "\n",
    "pd.set_option('display.float_format', lambda x: '%.2f' %x)"
   ]
  },
  {
   "cell_type": "code",
   "execution_count": 2,
   "metadata": {},
   "outputs": [
    {
     "data": {
      "text/html": [
       "<div>\n",
       "<style scoped>\n",
       "    .dataframe tbody tr th:only-of-type {\n",
       "        vertical-align: middle;\n",
       "    }\n",
       "\n",
       "    .dataframe tbody tr th {\n",
       "        vertical-align: top;\n",
       "    }\n",
       "\n",
       "    .dataframe thead th {\n",
       "        text-align: right;\n",
       "    }\n",
       "</style>\n",
       "<table border=\"1\" class=\"dataframe\">\n",
       "  <thead>\n",
       "    <tr style=\"text-align: right;\">\n",
       "      <th></th>\n",
       "      <th>id</th>\n",
       "      <th>gender</th>\n",
       "      <th>age</th>\n",
       "      <th>hypertension</th>\n",
       "      <th>heart_disease</th>\n",
       "      <th>ever_married</th>\n",
       "      <th>work_type</th>\n",
       "      <th>Residence_type</th>\n",
       "      <th>avg_glucose_level</th>\n",
       "      <th>bmi</th>\n",
       "      <th>smoking_status</th>\n",
       "      <th>stroke</th>\n",
       "    </tr>\n",
       "  </thead>\n",
       "  <tbody>\n",
       "    <tr>\n",
       "      <th>0</th>\n",
       "      <td>9046</td>\n",
       "      <td>Male</td>\n",
       "      <td>67.00</td>\n",
       "      <td>0</td>\n",
       "      <td>1</td>\n",
       "      <td>Yes</td>\n",
       "      <td>Private</td>\n",
       "      <td>Urban</td>\n",
       "      <td>228.69</td>\n",
       "      <td>36.60</td>\n",
       "      <td>formerly smoked</td>\n",
       "      <td>1</td>\n",
       "    </tr>\n",
       "    <tr>\n",
       "      <th>1</th>\n",
       "      <td>51676</td>\n",
       "      <td>Female</td>\n",
       "      <td>61.00</td>\n",
       "      <td>0</td>\n",
       "      <td>0</td>\n",
       "      <td>Yes</td>\n",
       "      <td>Self-employed</td>\n",
       "      <td>Rural</td>\n",
       "      <td>202.21</td>\n",
       "      <td>NaN</td>\n",
       "      <td>never smoked</td>\n",
       "      <td>1</td>\n",
       "    </tr>\n",
       "    <tr>\n",
       "      <th>2</th>\n",
       "      <td>31112</td>\n",
       "      <td>Male</td>\n",
       "      <td>80.00</td>\n",
       "      <td>0</td>\n",
       "      <td>1</td>\n",
       "      <td>Yes</td>\n",
       "      <td>Private</td>\n",
       "      <td>Rural</td>\n",
       "      <td>105.92</td>\n",
       "      <td>32.50</td>\n",
       "      <td>never smoked</td>\n",
       "      <td>1</td>\n",
       "    </tr>\n",
       "    <tr>\n",
       "      <th>3</th>\n",
       "      <td>60182</td>\n",
       "      <td>Female</td>\n",
       "      <td>49.00</td>\n",
       "      <td>0</td>\n",
       "      <td>0</td>\n",
       "      <td>Yes</td>\n",
       "      <td>Private</td>\n",
       "      <td>Urban</td>\n",
       "      <td>171.23</td>\n",
       "      <td>34.40</td>\n",
       "      <td>smokes</td>\n",
       "      <td>1</td>\n",
       "    </tr>\n",
       "    <tr>\n",
       "      <th>4</th>\n",
       "      <td>1665</td>\n",
       "      <td>Female</td>\n",
       "      <td>79.00</td>\n",
       "      <td>1</td>\n",
       "      <td>0</td>\n",
       "      <td>Yes</td>\n",
       "      <td>Self-employed</td>\n",
       "      <td>Rural</td>\n",
       "      <td>174.12</td>\n",
       "      <td>24.00</td>\n",
       "      <td>never smoked</td>\n",
       "      <td>1</td>\n",
       "    </tr>\n",
       "  </tbody>\n",
       "</table>\n",
       "</div>"
      ],
      "text/plain": [
       "      id  gender   age  hypertension  heart_disease ever_married  \\\n",
       "0   9046    Male 67.00             0              1          Yes   \n",
       "1  51676  Female 61.00             0              0          Yes   \n",
       "2  31112    Male 80.00             0              1          Yes   \n",
       "3  60182  Female 49.00             0              0          Yes   \n",
       "4   1665  Female 79.00             1              0          Yes   \n",
       "\n",
       "       work_type Residence_type  avg_glucose_level   bmi   smoking_status  \\\n",
       "0        Private          Urban             228.69 36.60  formerly smoked   \n",
       "1  Self-employed          Rural             202.21   NaN     never smoked   \n",
       "2        Private          Rural             105.92 32.50     never smoked   \n",
       "3        Private          Urban             171.23 34.40           smokes   \n",
       "4  Self-employed          Rural             174.12 24.00     never smoked   \n",
       "\n",
       "   stroke  \n",
       "0       1  \n",
       "1       1  \n",
       "2       1  \n",
       "3       1  \n",
       "4       1  "
      ]
     },
     "execution_count": 2,
     "metadata": {},
     "output_type": "execute_result"
    }
   ],
   "source": [
    "db = pd.read_csv(\"healthcare-dataset-stroke-data.csv\")\n",
    "\n",
    "db.head()"
   ]
  },
  {
   "cell_type": "markdown",
   "metadata": {},
   "source": [
    "# Limpeza e Transformação dos Dados"
   ]
  },
  {
   "cell_type": "code",
   "execution_count": 3,
   "metadata": {},
   "outputs": [
    {
     "data": {
      "text/plain": [
       "id                   False\n",
       "gender               False\n",
       "age                  False\n",
       "hypertension         False\n",
       "heart_disease        False\n",
       "ever_married         False\n",
       "work_type            False\n",
       "Residence_type       False\n",
       "avg_glucose_level    False\n",
       "bmi                   True\n",
       "smoking_status       False\n",
       "stroke               False\n",
       "dtype: bool"
      ]
     },
     "execution_count": 3,
     "metadata": {},
     "output_type": "execute_result"
    }
   ],
   "source": [
    "db.isnull().any()"
   ]
  },
  {
   "cell_type": "code",
   "execution_count": 4,
   "metadata": {},
   "outputs": [
    {
     "data": {
      "text/plain": [
       "201"
      ]
     },
     "execution_count": 4,
     "metadata": {},
     "output_type": "execute_result"
    }
   ],
   "source": [
    "db[\"bmi\"].isnull().sum()"
   ]
  },
  {
   "cell_type": "code",
   "execution_count": 5,
   "metadata": {},
   "outputs": [
    {
     "data": {
      "text/plain": [
       "id                   False\n",
       "gender               False\n",
       "age                  False\n",
       "hypertension         False\n",
       "heart_disease        False\n",
       "ever_married         False\n",
       "work_type            False\n",
       "Residence_type       False\n",
       "avg_glucose_level    False\n",
       "bmi                  False\n",
       "smoking_status       False\n",
       "stroke               False\n",
       "dtype: bool"
      ]
     },
     "execution_count": 5,
     "metadata": {},
     "output_type": "execute_result"
    }
   ],
   "source": [
    "db.dropna(inplace=True)\n",
    "\n",
    "db.isnull().any()"
   ]
  },
  {
   "cell_type": "code",
   "execution_count": 6,
   "metadata": {},
   "outputs": [
    {
     "data": {
      "text/plain": [
       "never smoked       1852\n",
       "Unknown            1483\n",
       "formerly smoked     837\n",
       "smokes              737\n",
       "Name: smoking_status, dtype: int64"
      ]
     },
     "execution_count": 6,
     "metadata": {},
     "output_type": "execute_result"
    }
   ],
   "source": [
    "db.smoking_status.value_counts()"
   ]
  },
  {
   "cell_type": "code",
   "execution_count": 7,
   "metadata": {},
   "outputs": [
    {
     "data": {
      "text/plain": [
       "id                     int64\n",
       "gender                object\n",
       "age                  float64\n",
       "hypertension           int64\n",
       "heart_disease          int64\n",
       "ever_married          object\n",
       "work_type             object\n",
       "Residence_type        object\n",
       "avg_glucose_level    float64\n",
       "bmi                  float64\n",
       "smoking_status        object\n",
       "stroke                 int64\n",
       "dtype: object"
      ]
     },
     "execution_count": 7,
     "metadata": {},
     "output_type": "execute_result"
    }
   ],
   "source": [
    "db.dtypes"
   ]
  },
  {
   "cell_type": "code",
   "execution_count": 8,
   "metadata": {},
   "outputs": [
    {
     "data": {
      "text/plain": [
       "0       67\n",
       "2       80\n",
       "3       49\n",
       "4       79\n",
       "5       81\n",
       "        ..\n",
       "5104    13\n",
       "5106    81\n",
       "5107    35\n",
       "5108    51\n",
       "5109    44\n",
       "Name: age, Length: 4909, dtype: int32"
      ]
     },
     "execution_count": 8,
     "metadata": {},
     "output_type": "execute_result"
    }
   ],
   "source": [
    "db = db.astype({\"age\": int})\n",
    "\n",
    "db.age"
   ]
  },
  {
   "cell_type": "code",
   "execution_count": 9,
   "metadata": {},
   "outputs": [
    {
     "data": {
      "text/plain": [
       "array(['Yes', 'No'], dtype=object)"
      ]
     },
     "execution_count": 9,
     "metadata": {},
     "output_type": "execute_result"
    }
   ],
   "source": [
    "db.ever_married.unique()"
   ]
  },
  {
   "cell_type": "code",
   "execution_count": 10,
   "metadata": {},
   "outputs": [
    {
     "data": {
      "text/plain": [
       "0       1\n",
       "2       1\n",
       "3       1\n",
       "4       1\n",
       "5       1\n",
       "       ..\n",
       "5104    0\n",
       "5106    1\n",
       "5107    1\n",
       "5108    1\n",
       "5109    1\n",
       "Name: ever_married, Length: 4909, dtype: int64"
      ]
     },
     "execution_count": 10,
     "metadata": {},
     "output_type": "execute_result"
    }
   ],
   "source": [
    "db.ever_married = db.ever_married.map({'Yes': 1, 'No': 0})\n",
    "\n",
    "db.ever_married"
   ]
  },
  {
   "cell_type": "markdown",
   "metadata": {},
   "source": [
    "As colunas que passaram pelos processos de limpeza e transformação de seus dados foram as seguintes:\n",
    "\n",
    "1. BMI: dado a existência de 201 linhas com dados faltantes, foi realizada a retirada das respectivas entradas;\n",
    "2. Smoking Status: nesta coluna foi verificada a existência do valor categórico unknown, contudo, dada a quantidade de ocorrências tais entradas permaneceram inalteradas;\n",
    "3. Age: os dados presentes nesta coluna tiveram seu tipo alterado de float para int, possibilitando maior eficiência nas análises posteriores;\n",
    "4. Ever Married: dado que os únicos valores presentes são 'Yes' e 'No', logo, para facilitar a futura manipulação, as entradas foram substituídas para 1 e 0, respectivamente."
   ]
  },
  {
   "cell_type": "markdown",
   "metadata": {
    "id": "cGi12z1H4LHq"
   },
   "source": [
    "# Análise Exploratória"
   ]
  },
  {
   "cell_type": "markdown",
   "metadata": {},
   "source": [
    "Algumas das colunas trabalhadas no dataset dispõem de dados categóricos, tornando inviável a aplicação de medidas de centralidade e dispersão a essas colunas. Desta forma, tais colunas serão exploradas com base na contagem da ocorrência dos valores categóricos e com o uso de gráficos para facilitar a visualização e entendimento dos dados."
   ]
  },
  {
   "cell_type": "code",
   "execution_count": 11,
   "metadata": {
    "id": "pjOHDWpQ4LH5"
   },
   "outputs": [],
   "source": [
    "# Medidas de centralidade e dispersão relacionadas ao dataset\n",
    "\n",
    "def medidas(data):\n",
    "    mean = np.mean(data)\n",
    "    median = data.median()\n",
    "    variance = np.var(data)\n",
    "    std_deviation = np.std(data)\n",
    "    dict_medidas = {\"Média\":mean,\"Mediana\":median,\"Variância\":variance,\"Desvio Padrão\":std_deviation}\n",
    "    return pd.DataFrame(dict_medidas).T"
   ]
  },
  {
   "cell_type": "markdown",
   "metadata": {
    "id": "5nBCUvKm4LH6"
   },
   "source": [
    "## 1. Idade"
   ]
  },
  {
   "cell_type": "markdown",
   "metadata": {
    "id": "Yo232jBz4LH7"
   },
   "source": [
    "### 1.1 Idade Geral"
   ]
  },
  {
   "cell_type": "code",
   "execution_count": 12,
   "metadata": {},
   "outputs": [],
   "source": [
    "stroke_1 = db[db[\"stroke\"] == 1]\n",
    "stroke_0 = db[db[\"stroke\"] == 0]"
   ]
  },
  {
   "cell_type": "code",
   "execution_count": 13,
   "metadata": {},
   "outputs": [
    {
     "data": {
      "text/html": [
       "<div>\n",
       "<style scoped>\n",
       "    .dataframe tbody tr th:only-of-type {\n",
       "        vertical-align: middle;\n",
       "    }\n",
       "\n",
       "    .dataframe tbody tr th {\n",
       "        vertical-align: top;\n",
       "    }\n",
       "\n",
       "    .dataframe thead th {\n",
       "        text-align: right;\n",
       "    }\n",
       "</style>\n",
       "<table border=\"1\" class=\"dataframe\">\n",
       "  <thead>\n",
       "    <tr style=\"text-align: right;\">\n",
       "      <th></th>\n",
       "      <th>age</th>\n",
       "    </tr>\n",
       "  </thead>\n",
       "  <tbody>\n",
       "    <tr>\n",
       "      <th>Média</th>\n",
       "      <td>42.85</td>\n",
       "    </tr>\n",
       "    <tr>\n",
       "      <th>Mediana</th>\n",
       "      <td>44.00</td>\n",
       "    </tr>\n",
       "    <tr>\n",
       "      <th>Variância</th>\n",
       "      <td>509.57</td>\n",
       "    </tr>\n",
       "    <tr>\n",
       "      <th>Desvio Padrão</th>\n",
       "      <td>22.57</td>\n",
       "    </tr>\n",
       "  </tbody>\n",
       "</table>\n",
       "</div>"
      ],
      "text/plain": [
       "                 age\n",
       "Média          42.85\n",
       "Mediana        44.00\n",
       "Variância     509.57\n",
       "Desvio Padrão  22.57"
      ]
     },
     "execution_count": 13,
     "metadata": {},
     "output_type": "execute_result"
    }
   ],
   "source": [
    "age = db[[\"age\"]]\n",
    "\n",
    "medidas(age)"
   ]
  },
  {
   "cell_type": "code",
   "execution_count": 14,
   "metadata": {
    "colab": {
     "base_uri": "https://localhost:8080/",
     "height": 282
    },
    "id": "bWf2hONl4LH-",
    "outputId": "d15eef8e-ce64-4245-8e8c-137eed65cd7b"
   },
   "outputs": [
    {
     "data": {
      "image/png": "[encoded data removed]",
      "text/plain": [
       "<Figure size 432x288 with 1 Axes>"
      ]
     },
     "metadata": {
      "needs_background": "light"
     },
     "output_type": "display_data"
    }
   ],
   "source": [
    "age.boxplot();"
   ]
  },
  {
   "cell_type": "markdown",
   "metadata": {
    "id": "Kewj4ZeA4LH_"
   },
   "source": [
    "### 1.2 Idade dos indivíduos que sofreram AVC"
   ]
  },
  {
   "cell_type": "code",
   "execution_count": 15,
   "metadata": {
    "colab": {
     "base_uri": "https://localhost:8080/",
     "height": 419
    },
    "id": "qfxavzqq4LIA",
    "outputId": "28a1608c-01eb-4a33-d685-52067d54c5b7"
   },
   "outputs": [
    {
     "data": {
      "text/html": [
       "<div>\n",
       "<style scoped>\n",
       "    .dataframe tbody tr th:only-of-type {\n",
       "        vertical-align: middle;\n",
       "    }\n",
       "\n",
       "    .dataframe tbody tr th {\n",
       "        vertical-align: top;\n",
       "    }\n",
       "\n",
       "    .dataframe thead th {\n",
       "        text-align: right;\n",
       "    }\n",
       "</style>\n",
       "<table border=\"1\" class=\"dataframe\">\n",
       "  <thead>\n",
       "    <tr style=\"text-align: right;\">\n",
       "      <th></th>\n",
       "      <th>age</th>\n",
       "    </tr>\n",
       "  </thead>\n",
       "  <tbody>\n",
       "    <tr>\n",
       "      <th>Média</th>\n",
       "      <td>67.71</td>\n",
       "    </tr>\n",
       "    <tr>\n",
       "      <th>Mediana</th>\n",
       "      <td>70.00</td>\n",
       "    </tr>\n",
       "    <tr>\n",
       "      <th>Variância</th>\n",
       "      <td>153.09</td>\n",
       "    </tr>\n",
       "    <tr>\n",
       "      <th>Desvio Padrão</th>\n",
       "      <td>12.37</td>\n",
       "    </tr>\n",
       "  </tbody>\n",
       "</table>\n",
       "</div>"
      ],
      "text/plain": [
       "                 age\n",
       "Média          67.71\n",
       "Mediana        70.00\n",
       "Variância     153.09\n",
       "Desvio Padrão  12.37"
      ]
     },
     "execution_count": 15,
     "metadata": {},
     "output_type": "execute_result"
    }
   ],
   "source": [
    "age_1 = stroke_1[[\"age\"]]\n",
    "medidas(age_1)"
   ]
  },
  {
   "cell_type": "code",
   "execution_count": 16,
   "metadata": {
    "colab": {
     "base_uri": "https://localhost:8080/",
     "height": 282
    },
    "id": "f9nScetu4LIB",
    "outputId": "cdc5e27c-d433-4d3f-e024-2ac012bfc6fb"
   },
   "outputs": [
    {
     "data": {
      "image/png": "[encoded data removed]",
      "text/plain": [
       "<Figure size 432x288 with 1 Axes>"
      ]
     },
     "metadata": {
      "needs_background": "light"
     },
     "output_type": "display_data"
    }
   ],
   "source": [
    "age_1.boxplot();"
   ]
  },
  {
   "cell_type": "markdown",
   "metadata": {
    "id": "I_18VVQ44LIC"
   },
   "source": [
    "### 1.3 Idades dos indivíduos que não sofreram AVC"
   ]
  },
  {
   "cell_type": "code",
   "execution_count": 17,
   "metadata": {
    "colab": {
     "base_uri": "https://localhost:8080/",
     "height": 419
    },
    "id": "GgXuPCYy4LIC",
    "outputId": "819ba9f7-f13b-4a5d-d3f7-94c7fac500e2"
   },
   "outputs": [
    {
     "data": {
      "text/html": [
       "<div>\n",
       "<style scoped>\n",
       "    .dataframe tbody tr th:only-of-type {\n",
       "        vertical-align: middle;\n",
       "    }\n",
       "\n",
       "    .dataframe tbody tr th {\n",
       "        vertical-align: top;\n",
       "    }\n",
       "\n",
       "    .dataframe thead th {\n",
       "        text-align: right;\n",
       "    }\n",
       "</style>\n",
       "<table border=\"1\" class=\"dataframe\">\n",
       "  <thead>\n",
       "    <tr style=\"text-align: right;\">\n",
       "      <th></th>\n",
       "      <th>age</th>\n",
       "    </tr>\n",
       "  </thead>\n",
       "  <tbody>\n",
       "    <tr>\n",
       "      <th>Média</th>\n",
       "      <td>41.75</td>\n",
       "    </tr>\n",
       "    <tr>\n",
       "      <th>Mediana</th>\n",
       "      <td>43.00</td>\n",
       "    </tr>\n",
       "    <tr>\n",
       "      <th>Variância</th>\n",
       "      <td>496.72</td>\n",
       "    </tr>\n",
       "    <tr>\n",
       "      <th>Desvio Padrão</th>\n",
       "      <td>22.29</td>\n",
       "    </tr>\n",
       "  </tbody>\n",
       "</table>\n",
       "</div>"
      ],
      "text/plain": [
       "                 age\n",
       "Média          41.75\n",
       "Mediana        43.00\n",
       "Variância     496.72\n",
       "Desvio Padrão  22.29"
      ]
     },
     "execution_count": 17,
     "metadata": {},
     "output_type": "execute_result"
    }
   ],
   "source": [
    "age_0 = stroke_0[[\"age\"]]\n",
    "medidas(age_0)"
   ]
  },
  {
   "cell_type": "code",
   "execution_count": 19,
   "metadata": {
    "colab": {
     "base_uri": "https://localhost:8080/",
     "height": 0
    },
    "id": "GgT1V0XV4LIG",
    "outputId": "fcc65a52-1bcd-498c-9621-f7a43267cefe"
   },
   "outputs": [
    {
     "data": {
      "image/png": "[encoded data removed]",
      "text/plain": [
       "<Figure size 432x288 with 1 Axes>"
      ]
     },
     "metadata": {
      "needs_background": "light"
     },
     "output_type": "display_data"
    }
   ],
   "source": [
    "age_0.boxplot();"
   ]
  },
  {
   "cell_type": "markdown",
   "metadata": {
    "id": "VqayySn04LII"
   },
   "source": [
    "## 2. Nível de Glicose"
   ]
  },
  {
   "cell_type": "markdown",
   "metadata": {},
   "source": [
    "### 2.1 Nível de Glicose Geral"
   ]
  },
  {
   "cell_type": "code",
   "execution_count": 20,
   "metadata": {
    "colab": {
     "base_uri": "https://localhost:8080/",
     "height": 419
    },
    "id": "h5I5nhCP4LII",
    "outputId": "5367ed21-50b4-4e23-cf29-a2ac68e186a9"
   },
   "outputs": [
    {
     "data": {
      "text/html": [
       "<div>\n",
       "<style scoped>\n",
       "    .dataframe tbody tr th:only-of-type {\n",
       "        vertical-align: middle;\n",
       "    }\n",
       "\n",
       "    .dataframe tbody tr th {\n",
       "        vertical-align: top;\n",
       "    }\n",
       "\n",
       "    .dataframe thead th {\n",
       "        text-align: right;\n",
       "    }\n",
       "</style>\n",
       "<table border=\"1\" class=\"dataframe\">\n",
       "  <thead>\n",
       "    <tr style=\"text-align: right;\">\n",
       "      <th></th>\n",
       "      <th>avg_glucose_level</th>\n",
       "    </tr>\n",
       "  </thead>\n",
       "  <tbody>\n",
       "    <tr>\n",
       "      <th>Média</th>\n",
       "      <td>105.31</td>\n",
       "    </tr>\n",
       "    <tr>\n",
       "      <th>Mediana</th>\n",
       "      <td>91.68</td>\n",
       "    </tr>\n",
       "    <tr>\n",
       "      <th>Variância</th>\n",
       "      <td>1973.12</td>\n",
       "    </tr>\n",
       "    <tr>\n",
       "      <th>Desvio Padrão</th>\n",
       "      <td>44.42</td>\n",
       "    </tr>\n",
       "  </tbody>\n",
       "</table>\n",
       "</div>"
      ],
      "text/plain": [
       "               avg_glucose_level\n",
       "Média                     105.31\n",
       "Mediana                    91.68\n",
       "Variância                1973.12\n",
       "Desvio Padrão              44.42"
      ]
     },
     "execution_count": 20,
     "metadata": {},
     "output_type": "execute_result"
    }
   ],
   "source": [
    "glicose = db[[\"avg_glucose_level\"]]\n",
    "medidas(glicose)"
   ]
  },
  {
   "cell_type": "code",
   "execution_count": 21,
   "metadata": {
    "colab": {
     "base_uri": "https://localhost:8080/",
     "height": 0
    },
    "id": "gMY_SNnk4LIJ",
    "outputId": "6b18fcc9-bbf7-4852-ab5a-903d86030f13"
   },
   "outputs": [
    {
     "data": {
      "image/png": "[encoded data removed]",
      "text/plain": [
       "<Figure size 432x288 with 1 Axes>"
      ]
     },
     "metadata": {
      "needs_background": "light"
     },
     "output_type": "display_data"
    }
   ],
   "source": [
    "glicose.boxplot();"
   ]
  },
  {
   "cell_type": "markdown",
   "metadata": {
    "id": "wjcwPB5C4LIK"
   },
   "source": [
    "### 2.2 Nivel de glicose dos indivíduos que sofreram AVC"
   ]
  },
  {
   "cell_type": "code",
   "execution_count": 22,
   "metadata": {
    "colab": {
     "base_uri": "https://localhost:8080/",
     "height": 419
    },
    "id": "YwD10km94LIK",
    "outputId": "339cbf72-75ba-4a88-ddc2-78ff8e1b17bf"
   },
   "outputs": [
    {
     "data": {
      "text/html": [
       "<div>\n",
       "<style scoped>\n",
       "    .dataframe tbody tr th:only-of-type {\n",
       "        vertical-align: middle;\n",
       "    }\n",
       "\n",
       "    .dataframe tbody tr th {\n",
       "        vertical-align: top;\n",
       "    }\n",
       "\n",
       "    .dataframe thead th {\n",
       "        text-align: right;\n",
       "    }\n",
       "</style>\n",
       "<table border=\"1\" class=\"dataframe\">\n",
       "  <thead>\n",
       "    <tr style=\"text-align: right;\">\n",
       "      <th></th>\n",
       "      <th>avg_glucose_level</th>\n",
       "    </tr>\n",
       "  </thead>\n",
       "  <tbody>\n",
       "    <tr>\n",
       "      <th>Média</th>\n",
       "      <td>134.57</td>\n",
       "    </tr>\n",
       "    <tr>\n",
       "      <th>Mediana</th>\n",
       "      <td>106.58</td>\n",
       "    </tr>\n",
       "    <tr>\n",
       "      <th>Variância</th>\n",
       "      <td>3882.84</td>\n",
       "    </tr>\n",
       "    <tr>\n",
       "      <th>Desvio Padrão</th>\n",
       "      <td>62.31</td>\n",
       "    </tr>\n",
       "  </tbody>\n",
       "</table>\n",
       "</div>"
      ],
      "text/plain": [
       "               avg_glucose_level\n",
       "Média                     134.57\n",
       "Mediana                   106.58\n",
       "Variância                3882.84\n",
       "Desvio Padrão              62.31"
      ]
     },
     "execution_count": 22,
     "metadata": {},
     "output_type": "execute_result"
    }
   ],
   "source": [
    "glicose_1 = stroke_1[[\"avg_glucose_level\"]]\n",
    "medidas(glicose_1)"
   ]
  },
  {
   "cell_type": "code",
   "execution_count": 23,
   "metadata": {
    "colab": {
     "base_uri": "https://localhost:8080/",
     "height": 0
    },
    "id": "s_rcD3ob4LIL",
    "outputId": "5909247c-c266-417a-cf9c-97e7b1c25e52"
   },
   "outputs": [
    {
     "data": {
      "image/png": "[encoded data removed]",
      "text/plain": [
       "<Figure size 432x288 with 1 Axes>"
      ]
     },
     "metadata": {
      "needs_background": "light"
     },
     "output_type": "display_data"
    }
   ],
   "source": [
    "glicose_1.boxplot();"
   ]
  },
  {
   "cell_type": "markdown",
   "metadata": {
    "id": "1TYKePta4LIM"
   },
   "source": [
    "### 2.3 Nivel de glicose dos indivíduos que não sofreram AVC"
   ]
  },
  {
   "cell_type": "code",
   "execution_count": 24,
   "metadata": {
    "colab": {
     "base_uri": "https://localhost:8080/",
     "height": 419
    },
    "id": "Kp2al5pq4LIN",
    "outputId": "ecd25eb5-4524-4107-efcb-04f33df0bfc9"
   },
   "outputs": [
    {
     "data": {
      "text/html": [
       "<div>\n",
       "<style scoped>\n",
       "    .dataframe tbody tr th:only-of-type {\n",
       "        vertical-align: middle;\n",
       "    }\n",
       "\n",
       "    .dataframe tbody tr th {\n",
       "        vertical-align: top;\n",
       "    }\n",
       "\n",
       "    .dataframe thead th {\n",
       "        text-align: right;\n",
       "    }\n",
       "</style>\n",
       "<table border=\"1\" class=\"dataframe\">\n",
       "  <thead>\n",
       "    <tr style=\"text-align: right;\">\n",
       "      <th></th>\n",
       "      <th>avg_glucose_level</th>\n",
       "    </tr>\n",
       "  </thead>\n",
       "  <tbody>\n",
       "    <tr>\n",
       "      <th>Média</th>\n",
       "      <td>104.00</td>\n",
       "    </tr>\n",
       "    <tr>\n",
       "      <th>Mediana</th>\n",
       "      <td>91.21</td>\n",
       "    </tr>\n",
       "    <tr>\n",
       "      <th>Variância</th>\n",
       "      <td>1848.42</td>\n",
       "    </tr>\n",
       "    <tr>\n",
       "      <th>Desvio Padrão</th>\n",
       "      <td>42.99</td>\n",
       "    </tr>\n",
       "  </tbody>\n",
       "</table>\n",
       "</div>"
      ],
      "text/plain": [
       "               avg_glucose_level\n",
       "Média                     104.00\n",
       "Mediana                    91.21\n",
       "Variância                1848.42\n",
       "Desvio Padrão              42.99"
      ]
     },
     "execution_count": 24,
     "metadata": {},
     "output_type": "execute_result"
    }
   ],
   "source": [
    "glicose_0 = stroke_0[[\"avg_glucose_level\"]]\n",
    "medidas(glicose_0)"
   ]
  },
  {
   "cell_type": "code",
   "execution_count": 25,
   "metadata": {
    "colab": {
     "base_uri": "https://localhost:8080/",
     "height": 0
    },
    "id": "EOzfBAZP4LIP",
    "outputId": "982205a8-c271-4746-cc5c-54aa26edddf9",
    "scrolled": true
   },
   "outputs": [
    {
     "data": {
      "image/png": "[encoded data removed]",
      "text/plain": [
       "<Figure size 432x288 with 1 Axes>"
      ]
     },
     "metadata": {
      "needs_background": "light"
     },
     "output_type": "display_data"
    }
   ],
   "source": [
    "glicose_0.boxplot();"
   ]
  },
  {
   "cell_type": "markdown",
   "metadata": {},
   "source": [
    "## 3. Com Relação ao Hábito de Fumar"
   ]
  },
  {
   "cell_type": "code",
   "execution_count": 26,
   "metadata": {},
   "outputs": [
    {
     "data": {
      "text/plain": [
       "never smoked       84\n",
       "formerly smoked    57\n",
       "smokes             39\n",
       "Unknown            29\n",
       "Name: smoking_status, dtype: int64"
      ]
     },
     "execution_count": 26,
     "metadata": {},
     "output_type": "execute_result"
    }
   ],
   "source": [
    "smoke_status = stroke_1[\"smoking_status\"].value_counts().T\n",
    "smoke_status"
   ]
  },
  {
   "cell_type": "code",
   "execution_count": 27,
   "metadata": {},
   "outputs": [
    {
     "data": {
      "text/plain": [
       "never smoked       1768\n",
       "Unknown            1454\n",
       "formerly smoked     780\n",
       "smokes              698\n",
       "Name: smoking_status, dtype: int64"
      ]
     },
     "execution_count": 27,
     "metadata": {},
     "output_type": "execute_result"
    }
   ],
   "source": [
    "smoke_status = stroke_0[\"smoking_status\"].value_counts().T\n",
    "smoke_status"
   ]
  },
  {
   "cell_type": "markdown",
   "metadata": {
    "id": "o9NaZkDq4LIQ"
   },
   "source": [
    "## 4. Em Relação a Localidade"
   ]
  },
  {
   "cell_type": "markdown",
   "metadata": {
    "id": "Mx50NK_f4LIQ"
   },
   "source": [
    "### 4.1 Pessoas que não sofreram AVC e sua localidade"
   ]
  },
  {
   "cell_type": "code",
   "execution_count": 31,
   "metadata": {
    "colab": {
     "base_uri": "https://localhost:8080/",
     "height": 0
    },
    "id": "bD0T4AG-4LIQ",
    "outputId": "a50c8a44-c600-4973-ff07-0efc9f9ed811"
   },
   "outputs": [
    {
     "data": {
      "text/html": [
       "<div>\n",
       "<style scoped>\n",
       "    .dataframe tbody tr th:only-of-type {\n",
       "        vertical-align: middle;\n",
       "    }\n",
       "\n",
       "    .dataframe tbody tr th {\n",
       "        vertical-align: top;\n",
       "    }\n",
       "\n",
       "    .dataframe thead th {\n",
       "        text-align: right;\n",
       "    }\n",
       "</style>\n",
       "<table border=\"1\" class=\"dataframe\">\n",
       "  <thead>\n",
       "    <tr style=\"text-align: right;\">\n",
       "      <th></th>\n",
       "      <th>Residence_type</th>\n",
       "    </tr>\n",
       "  </thead>\n",
       "  <tbody>\n",
       "    <tr>\n",
       "      <th>Urban</th>\n",
       "      <td>2381</td>\n",
       "    </tr>\n",
       "    <tr>\n",
       "      <th>Rural</th>\n",
       "      <td>2319</td>\n",
       "    </tr>\n",
       "  </tbody>\n",
       "</table>\n",
       "</div>"
      ],
      "text/plain": [
       "       Residence_type\n",
       "Urban            2381\n",
       "Rural            2319"
      ]
     },
     "execution_count": 31,
     "metadata": {},
     "output_type": "execute_result"
    }
   ],
   "source": [
    "residence_0 = db[db.stroke == 0][\"Residence_type\"].value_counts().to_frame()\n",
    "\n",
    "residence_0"
   ]
  },
  {
   "cell_type": "markdown",
   "metadata": {
    "id": "tO1kHS474LIR"
   },
   "source": [
    "Podemos ver que os moradores que não sofreram AVC estão bem distribuídos."
   ]
  },
  {
   "cell_type": "markdown",
   "metadata": {
    "id": "wNkbhDtM4LIS"
   },
   "source": [
    "### 4.2 Pessoas que sofreram AVC e sua localidade"
   ]
  },
  {
   "cell_type": "code",
   "execution_count": 32,
   "metadata": {
    "colab": {
     "base_uri": "https://localhost:8080/",
     "height": 0
    },
    "id": "3kA9ysTX4LIS",
    "outputId": "988b9e1c-0901-4bb0-f2a6-a8f4df2802c8"
   },
   "outputs": [
    {
     "data": {
      "text/html": [
       "<div>\n",
       "<style scoped>\n",
       "    .dataframe tbody tr th:only-of-type {\n",
       "        vertical-align: middle;\n",
       "    }\n",
       "\n",
       "    .dataframe tbody tr th {\n",
       "        vertical-align: top;\n",
       "    }\n",
       "\n",
       "    .dataframe thead th {\n",
       "        text-align: right;\n",
       "    }\n",
       "</style>\n",
       "<table border=\"1\" class=\"dataframe\">\n",
       "  <thead>\n",
       "    <tr style=\"text-align: right;\">\n",
       "      <th></th>\n",
       "      <th>Residence_type</th>\n",
       "    </tr>\n",
       "  </thead>\n",
       "  <tbody>\n",
       "    <tr>\n",
       "      <th>Urban</th>\n",
       "      <td>109</td>\n",
       "    </tr>\n",
       "    <tr>\n",
       "      <th>Rural</th>\n",
       "      <td>100</td>\n",
       "    </tr>\n",
       "  </tbody>\n",
       "</table>\n",
       "</div>"
      ],
      "text/plain": [
       "       Residence_type\n",
       "Urban             109\n",
       "Rural             100"
      ]
     },
     "execution_count": 32,
     "metadata": {},
     "output_type": "execute_result"
    }
   ],
   "source": [
    "residence_1 = db[db.stroke == 1][\"Residence_type\"].value_counts().to_frame()\n",
    "\n",
    "residence_1"
   ]
  },
  {
   "cell_type": "markdown",
   "metadata": {
    "id": "0iIbUxyl4LIU"
   },
   "source": [
    "## 5. Em Relação ao IMC"
   ]
  },
  {
   "cell_type": "markdown",
   "metadata": {
    "id": "_f7t_j7S4LIU"
   },
   "source": [
    "### 5.1 IMC de pessoas que não tiveram AVC"
   ]
  },
  {
   "cell_type": "code",
   "execution_count": 33,
   "metadata": {
    "colab": {
     "base_uri": "https://localhost:8080/",
     "height": 0
    },
    "id": "COpOTfET4LIV",
    "outputId": "74a60146-4227-4919-bf1a-cb21b3e3d906"
   },
   "outputs": [
    {
     "data": {
      "text/html": [
       "<div>\n",
       "<style scoped>\n",
       "    .dataframe tbody tr th:only-of-type {\n",
       "        vertical-align: middle;\n",
       "    }\n",
       "\n",
       "    .dataframe tbody tr th {\n",
       "        vertical-align: top;\n",
       "    }\n",
       "\n",
       "    .dataframe thead th {\n",
       "        text-align: right;\n",
       "    }\n",
       "</style>\n",
       "<table border=\"1\" class=\"dataframe\">\n",
       "  <thead>\n",
       "    <tr style=\"text-align: right;\">\n",
       "      <th></th>\n",
       "      <th>bmi</th>\n",
       "    </tr>\n",
       "  </thead>\n",
       "  <tbody>\n",
       "    <tr>\n",
       "      <th>249</th>\n",
       "      <td>18.00</td>\n",
       "    </tr>\n",
       "    <tr>\n",
       "      <th>250</th>\n",
       "      <td>39.20</td>\n",
       "    </tr>\n",
       "    <tr>\n",
       "      <th>251</th>\n",
       "      <td>17.60</td>\n",
       "    </tr>\n",
       "    <tr>\n",
       "      <th>252</th>\n",
       "      <td>35.90</td>\n",
       "    </tr>\n",
       "    <tr>\n",
       "      <th>253</th>\n",
       "      <td>19.10</td>\n",
       "    </tr>\n",
       "    <tr>\n",
       "      <th>...</th>\n",
       "      <td>...</td>\n",
       "    </tr>\n",
       "    <tr>\n",
       "      <th>5104</th>\n",
       "      <td>18.60</td>\n",
       "    </tr>\n",
       "    <tr>\n",
       "      <th>5106</th>\n",
       "      <td>40.00</td>\n",
       "    </tr>\n",
       "    <tr>\n",
       "      <th>5107</th>\n",
       "      <td>30.60</td>\n",
       "    </tr>\n",
       "    <tr>\n",
       "      <th>5108</th>\n",
       "      <td>25.60</td>\n",
       "    </tr>\n",
       "    <tr>\n",
       "      <th>5109</th>\n",
       "      <td>26.20</td>\n",
       "    </tr>\n",
       "  </tbody>\n",
       "</table>\n",
       "<p>4700 rows × 1 columns</p>\n",
       "</div>"
      ],
      "text/plain": [
       "       bmi\n",
       "249  18.00\n",
       "250  39.20\n",
       "251  17.60\n",
       "252  35.90\n",
       "253  19.10\n",
       "...    ...\n",
       "5104 18.60\n",
       "5106 40.00\n",
       "5107 30.60\n",
       "5108 25.60\n",
       "5109 26.20\n",
       "\n",
       "[4700 rows x 1 columns]"
      ]
     },
     "execution_count": 33,
     "metadata": {},
     "output_type": "execute_result"
    }
   ],
   "source": [
    "bmi_0 = db[db.stroke == 0][\"bmi\"].to_frame()\n",
    "\n",
    "bmi_0"
   ]
  },
  {
   "cell_type": "code",
   "execution_count": 34,
   "metadata": {
    "colab": {
     "base_uri": "https://localhost:8080/",
     "height": 0
    },
    "id": "C-jZqYad4LIW",
    "outputId": "aa1644cb-c328-47f1-e3c2-495ef4df41eb",
    "scrolled": true
   },
   "outputs": [
    {
     "data": {
      "text/html": [
       "<div>\n",
       "<style scoped>\n",
       "    .dataframe tbody tr th:only-of-type {\n",
       "        vertical-align: middle;\n",
       "    }\n",
       "\n",
       "    .dataframe tbody tr th {\n",
       "        vertical-align: top;\n",
       "    }\n",
       "\n",
       "    .dataframe thead th {\n",
       "        text-align: right;\n",
       "    }\n",
       "</style>\n",
       "<table border=\"1\" class=\"dataframe\">\n",
       "  <thead>\n",
       "    <tr style=\"text-align: right;\">\n",
       "      <th></th>\n",
       "      <th>bmi</th>\n",
       "    </tr>\n",
       "  </thead>\n",
       "  <tbody>\n",
       "    <tr>\n",
       "      <th>Média</th>\n",
       "      <td>28.82</td>\n",
       "    </tr>\n",
       "    <tr>\n",
       "      <th>Mediana</th>\n",
       "      <td>28.00</td>\n",
       "    </tr>\n",
       "    <tr>\n",
       "      <th>Variância</th>\n",
       "      <td>62.53</td>\n",
       "    </tr>\n",
       "    <tr>\n",
       "      <th>Desvio Padrão</th>\n",
       "      <td>7.91</td>\n",
       "    </tr>\n",
       "  </tbody>\n",
       "</table>\n",
       "</div>"
      ],
      "text/plain": [
       "                bmi\n",
       "Média         28.82\n",
       "Mediana       28.00\n",
       "Variância     62.53\n",
       "Desvio Padrão  7.91"
      ]
     },
     "execution_count": 34,
     "metadata": {},
     "output_type": "execute_result"
    }
   ],
   "source": [
    "medidas(bmi_0)"
   ]
  },
  {
   "cell_type": "code",
   "execution_count": 35,
   "metadata": {},
   "outputs": [
    {
     "data": {
      "image/png": "[encoded data removed]",
      "text/plain": [
       "<Figure size 432x288 with 1 Axes>"
      ]
     },
     "metadata": {
      "needs_background": "light"
     },
     "output_type": "display_data"
    }
   ],
   "source": [
    "# Presença de vários outliers\n",
    "\n",
    "bmi_0.boxplot();"
   ]
  },
  {
   "cell_type": "markdown",
   "metadata": {
    "id": "pujLOapZ4LIY"
   },
   "source": [
    "### 5.2 IMC de pessoas que não tiveram AVC"
   ]
  },
  {
   "cell_type": "code",
   "execution_count": 36,
   "metadata": {
    "colab": {
     "base_uri": "https://localhost:8080/",
     "height": 0
    },
    "id": "PIywLlGe4LIY",
    "outputId": "016baa66-9b21-480f-d416-015018b3758e"
   },
   "outputs": [
    {
     "data": {
      "text/html": [
       "<div>\n",
       "<style scoped>\n",
       "    .dataframe tbody tr th:only-of-type {\n",
       "        vertical-align: middle;\n",
       "    }\n",
       "\n",
       "    .dataframe tbody tr th {\n",
       "        vertical-align: top;\n",
       "    }\n",
       "\n",
       "    .dataframe thead th {\n",
       "        text-align: right;\n",
       "    }\n",
       "</style>\n",
       "<table border=\"1\" class=\"dataframe\">\n",
       "  <thead>\n",
       "    <tr style=\"text-align: right;\">\n",
       "      <th></th>\n",
       "      <th>bmi</th>\n",
       "    </tr>\n",
       "  </thead>\n",
       "  <tbody>\n",
       "    <tr>\n",
       "      <th>0</th>\n",
       "      <td>36.60</td>\n",
       "    </tr>\n",
       "    <tr>\n",
       "      <th>2</th>\n",
       "      <td>32.50</td>\n",
       "    </tr>\n",
       "    <tr>\n",
       "      <th>3</th>\n",
       "      <td>34.40</td>\n",
       "    </tr>\n",
       "    <tr>\n",
       "      <th>4</th>\n",
       "      <td>24.00</td>\n",
       "    </tr>\n",
       "    <tr>\n",
       "      <th>5</th>\n",
       "      <td>29.00</td>\n",
       "    </tr>\n",
       "    <tr>\n",
       "      <th>...</th>\n",
       "      <td>...</td>\n",
       "    </tr>\n",
       "    <tr>\n",
       "      <th>243</th>\n",
       "      <td>40.50</td>\n",
       "    </tr>\n",
       "    <tr>\n",
       "      <th>244</th>\n",
       "      <td>36.70</td>\n",
       "    </tr>\n",
       "    <tr>\n",
       "      <th>245</th>\n",
       "      <td>30.90</td>\n",
       "    </tr>\n",
       "    <tr>\n",
       "      <th>246</th>\n",
       "      <td>29.30</td>\n",
       "    </tr>\n",
       "    <tr>\n",
       "      <th>248</th>\n",
       "      <td>19.60</td>\n",
       "    </tr>\n",
       "  </tbody>\n",
       "</table>\n",
       "<p>209 rows × 1 columns</p>\n",
       "</div>"
      ],
      "text/plain": [
       "      bmi\n",
       "0   36.60\n",
       "2   32.50\n",
       "3   34.40\n",
       "4   24.00\n",
       "5   29.00\n",
       "..    ...\n",
       "243 40.50\n",
       "244 36.70\n",
       "245 30.90\n",
       "246 29.30\n",
       "248 19.60\n",
       "\n",
       "[209 rows x 1 columns]"
      ]
     },
     "execution_count": 36,
     "metadata": {},
     "output_type": "execute_result"
    }
   ],
   "source": [
    "bmi_1 = db[db.stroke == 1][\"bmi\"].to_frame()\n",
    "\n",
    "bmi_1"
   ]
  },
  {
   "cell_type": "code",
   "execution_count": 37,
   "metadata": {
    "colab": {
     "base_uri": "https://localhost:8080/",
     "height": 0
    },
    "id": "Q6Apxfia4LIZ",
    "outputId": "00f52e09-be63-4165-f7de-d79ccdd7cdc4",
    "scrolled": true
   },
   "outputs": [
    {
     "data": {
      "text/html": [
       "<div>\n",
       "<style scoped>\n",
       "    .dataframe tbody tr th:only-of-type {\n",
       "        vertical-align: middle;\n",
       "    }\n",
       "\n",
       "    .dataframe tbody tr th {\n",
       "        vertical-align: top;\n",
       "    }\n",
       "\n",
       "    .dataframe thead th {\n",
       "        text-align: right;\n",
       "    }\n",
       "</style>\n",
       "<table border=\"1\" class=\"dataframe\">\n",
       "  <thead>\n",
       "    <tr style=\"text-align: right;\">\n",
       "      <th></th>\n",
       "      <th>bmi</th>\n",
       "    </tr>\n",
       "  </thead>\n",
       "  <tbody>\n",
       "    <tr>\n",
       "      <th>Média</th>\n",
       "      <td>30.47</td>\n",
       "    </tr>\n",
       "    <tr>\n",
       "      <th>Mediana</th>\n",
       "      <td>29.70</td>\n",
       "    </tr>\n",
       "    <tr>\n",
       "      <th>Variância</th>\n",
       "      <td>39.87</td>\n",
       "    </tr>\n",
       "    <tr>\n",
       "      <th>Desvio Padrão</th>\n",
       "      <td>6.31</td>\n",
       "    </tr>\n",
       "  </tbody>\n",
       "</table>\n",
       "</div>"
      ],
      "text/plain": [
       "                bmi\n",
       "Média         30.47\n",
       "Mediana       29.70\n",
       "Variância     39.87\n",
       "Desvio Padrão  6.31"
      ]
     },
     "execution_count": 37,
     "metadata": {},
     "output_type": "execute_result"
    }
   ],
   "source": [
    "# Os dados não tem tanta variação, o que facilita o entendimento\n",
    "\n",
    "medidas(bmi_1)"
   ]
  },
  {
   "cell_type": "code",
   "execution_count": 38,
   "metadata": {},
   "outputs": [
    {
     "data": {
      "image/png": "[encoded data removed]",
      "text/plain": [
       "<Figure size 432x288 with 1 Axes>"
      ]
     },
     "metadata": {
      "needs_background": "light"
     },
     "output_type": "display_data"
    }
   ],
   "source": [
    "bmi_1.boxplot();"
   ]
  },
  {
   "cell_type": "markdown",
   "metadata": {
    "id": "RqgcDxk64LIc"
   },
   "source": [
    "## 6. Em Relação às Doenças do Coração (heart disease)"
   ]
  },
  {
   "cell_type": "code",
   "execution_count": 40,
   "metadata": {
    "colab": {
     "base_uri": "https://localhost:8080/",
     "height": 111
    },
    "id": "PKAZ4W6g4LId",
    "outputId": "c60dd45e-efb3-494f-e78c-46fcfd7c7b75",
    "scrolled": true
   },
   "outputs": [
    {
     "data": {
      "text/html": [
       "<div>\n",
       "<style scoped>\n",
       "    .dataframe tbody tr th:only-of-type {\n",
       "        vertical-align: middle;\n",
       "    }\n",
       "\n",
       "    .dataframe tbody tr th {\n",
       "        vertical-align: top;\n",
       "    }\n",
       "\n",
       "    .dataframe thead th {\n",
       "        text-align: right;\n",
       "    }\n",
       "</style>\n",
       "<table border=\"1\" class=\"dataframe\">\n",
       "  <thead>\n",
       "    <tr style=\"text-align: right;\">\n",
       "      <th></th>\n",
       "      <th>heart_disease</th>\n",
       "    </tr>\n",
       "  </thead>\n",
       "  <tbody>\n",
       "    <tr>\n",
       "      <th>No stroke</th>\n",
       "      <td>4666</td>\n",
       "    </tr>\n",
       "    <tr>\n",
       "      <th>Stroke</th>\n",
       "      <td>243</td>\n",
       "    </tr>\n",
       "  </tbody>\n",
       "</table>\n",
       "</div>"
      ],
      "text/plain": [
       "           heart_disease\n",
       "No stroke           4666\n",
       "Stroke               243"
      ]
     },
     "execution_count": 40,
     "metadata": {},
     "output_type": "execute_result"
    }
   ],
   "source": [
    "heart_disease = db[\"heart_disease\"].value_counts().to_frame()\n",
    "heart_disease.rename({0: \"No stroke\", 1:\"Stroke\"}, axis='index', inplace=True)\n",
    "\n",
    "heart_disease"
   ]
  },
  {
   "cell_type": "code",
   "execution_count": 42,
   "metadata": {
    "colab": {
     "base_uri": "https://localhost:8080/",
     "height": 111
    },
    "id": "sJ9G-fPf4LId",
    "outputId": "ec6d22c7-e1ef-4473-80c9-dabad83c2ba8",
    "scrolled": false
   },
   "outputs": [
    {
     "data": {
      "text/html": [
       "<div>\n",
       "<style scoped>\n",
       "    .dataframe tbody tr th:only-of-type {\n",
       "        vertical-align: middle;\n",
       "    }\n",
       "\n",
       "    .dataframe tbody tr th {\n",
       "        vertical-align: top;\n",
       "    }\n",
       "\n",
       "    .dataframe thead th {\n",
       "        text-align: right;\n",
       "    }\n",
       "</style>\n",
       "<table border=\"1\" class=\"dataframe\">\n",
       "  <thead>\n",
       "    <tr style=\"text-align: right;\">\n",
       "      <th></th>\n",
       "      <th>Heart Disease - V</th>\n",
       "      <th>Heart Disease - F</th>\n",
       "    </tr>\n",
       "  </thead>\n",
       "  <tbody>\n",
       "    <tr>\n",
       "      <th>Não teve AVC</th>\n",
       "      <td>169</td>\n",
       "      <td>4497</td>\n",
       "    </tr>\n",
       "    <tr>\n",
       "      <th>Teve AVC</th>\n",
       "      <td>40</td>\n",
       "      <td>203</td>\n",
       "    </tr>\n",
       "  </tbody>\n",
       "</table>\n",
       "</div>"
      ],
      "text/plain": [
       "              Heart Disease - V  Heart Disease - F\n",
       "Não teve AVC                169               4497\n",
       "Teve AVC                     40                203"
      ]
     },
     "execution_count": 42,
     "metadata": {},
     "output_type": "execute_result"
    }
   ],
   "source": [
    "heart_disease_0 = db[db.stroke == 0]\n",
    "heart_disease_0 = heart_disease_0[\"heart_disease\"].value_counts()\n",
    "heart_disease_1 = db[db.stroke == 1]\n",
    "heart_disease_1 = heart_disease_1[\"heart_disease\"].value_counts()\n",
    "\n",
    "heart = pd.DataFrame({\"Heart Disease - V\": heart_disease_1,\n",
    "                     \"Heart Disease - F\": heart_disease_0})\n",
    "heart = heart.rename({1: \"Teve AVC\", 0: \"Não teve AVC\"}, axis='index')\n",
    "\n",
    "heart"
   ]
  },
  {
   "cell_type": "markdown",
   "metadata": {
    "id": "1EJnN-V54LIi"
   },
   "source": [
    "## 7. Em Relação à Coluna Gênero"
   ]
  },
  {
   "cell_type": "code",
   "execution_count": 43,
   "metadata": {
    "colab": {
     "base_uri": "https://localhost:8080/"
    },
    "id": "ByIm8f4z4LIj",
    "outputId": "49ceac4b-377f-4017-b20f-1f36461c1df5"
   },
   "outputs": [
    {
     "data": {
      "text/plain": [
       "0      Male\n",
       "2      Male\n",
       "3    Female\n",
       "4    Female\n",
       "5      Male\n",
       "Name: gender, dtype: object"
      ]
     },
     "execution_count": 43,
     "metadata": {},
     "output_type": "execute_result"
    }
   ],
   "source": [
    "gender = db[\"gender\"]\n",
    "gender.head()"
   ]
  },
  {
   "cell_type": "code",
   "execution_count": 44,
   "metadata": {
    "colab": {
     "base_uri": "https://localhost:8080/",
     "height": 142
    },
    "id": "GZFvo6Pn4LIk",
    "outputId": "2bb8156d-fa50-4091-a1d8-177086f81f7e",
    "scrolled": true
   },
   "outputs": [
    {
     "data": {
      "text/html": [
       "<div>\n",
       "<style scoped>\n",
       "    .dataframe tbody tr th:only-of-type {\n",
       "        vertical-align: middle;\n",
       "    }\n",
       "\n",
       "    .dataframe tbody tr th {\n",
       "        vertical-align: top;\n",
       "    }\n",
       "\n",
       "    .dataframe thead th {\n",
       "        text-align: right;\n",
       "    }\n",
       "</style>\n",
       "<table border=\"1\" class=\"dataframe\">\n",
       "  <thead>\n",
       "    <tr style=\"text-align: right;\">\n",
       "      <th></th>\n",
       "      <th>gender</th>\n",
       "    </tr>\n",
       "  </thead>\n",
       "  <tbody>\n",
       "    <tr>\n",
       "      <th>Female</th>\n",
       "      <td>2897</td>\n",
       "    </tr>\n",
       "    <tr>\n",
       "      <th>Male</th>\n",
       "      <td>2011</td>\n",
       "    </tr>\n",
       "    <tr>\n",
       "      <th>Other</th>\n",
       "      <td>1</td>\n",
       "    </tr>\n",
       "  </tbody>\n",
       "</table>\n",
       "</div>"
      ],
      "text/plain": [
       "        gender\n",
       "Female    2897\n",
       "Male      2011\n",
       "Other        1"
      ]
     },
     "execution_count": 44,
     "metadata": {},
     "output_type": "execute_result"
    }
   ],
   "source": [
    "# Verificando a prevalência de gênero na base de dados\n",
    "\n",
    "gender = gender.value_counts().to_frame()\n",
    "gender"
   ]
  },
  {
   "cell_type": "code",
   "execution_count": 45,
   "metadata": {
    "colab": {
     "base_uri": "https://localhost:8080/",
     "height": 142
    },
    "id": "WBQh5N0o4LIl",
    "outputId": "2fcf2cf9-9164-42f7-85e5-65d64bc71785",
    "scrolled": true
   },
   "outputs": [
    {
     "data": {
      "text/html": [
       "<div>\n",
       "<style scoped>\n",
       "    .dataframe tbody tr th:only-of-type {\n",
       "        vertical-align: middle;\n",
       "    }\n",
       "\n",
       "    .dataframe tbody tr th {\n",
       "        vertical-align: top;\n",
       "    }\n",
       "\n",
       "    .dataframe thead th {\n",
       "        text-align: right;\n",
       "    }\n",
       "</style>\n",
       "<table border=\"1\" class=\"dataframe\">\n",
       "  <thead>\n",
       "    <tr style=\"text-align: right;\">\n",
       "      <th></th>\n",
       "      <th>gender</th>\n",
       "      <th>gender_perc</th>\n",
       "    </tr>\n",
       "  </thead>\n",
       "  <tbody>\n",
       "    <tr>\n",
       "      <th>Female</th>\n",
       "      <td>2897</td>\n",
       "      <td>59.01</td>\n",
       "    </tr>\n",
       "    <tr>\n",
       "      <th>Male</th>\n",
       "      <td>2011</td>\n",
       "      <td>40.97</td>\n",
       "    </tr>\n",
       "    <tr>\n",
       "      <th>Other</th>\n",
       "      <td>1</td>\n",
       "      <td>0.02</td>\n",
       "    </tr>\n",
       "  </tbody>\n",
       "</table>\n",
       "</div>"
      ],
      "text/plain": [
       "        gender  gender_perc\n",
       "Female    2897        59.01\n",
       "Male      2011        40.97\n",
       "Other        1         0.02"
      ]
     },
     "execution_count": 45,
     "metadata": {},
     "output_type": "execute_result"
    }
   ],
   "source": [
    "# Incluindo a porcentagem de ocorrência por gênero\n",
    "\n",
    "gender[\"gender_perc\"] = gender[\"gender\"] / gender[\"gender\"].sum() * 100\n",
    "gender"
   ]
  },
  {
   "cell_type": "code",
   "execution_count": 46,
   "metadata": {
    "colab": {
     "base_uri": "https://localhost:8080/"
    },
    "id": "HAstfQEs4LIm",
    "outputId": "d2924f0c-0308-4e95-f9e8-5550bc6f3d80",
    "scrolled": true
   },
   "outputs": [
    {
     "data": {
      "text/plain": [
       "0      Male\n",
       "2      Male\n",
       "3    Female\n",
       "4    Female\n",
       "5      Male\n",
       "Name: gender, dtype: object"
      ]
     },
     "execution_count": 46,
     "metadata": {},
     "output_type": "execute_result"
    }
   ],
   "source": [
    "gender_1 = stroke_1[\"gender\"]\n",
    "gender_1.head()"
   ]
  },
  {
   "cell_type": "code",
   "execution_count": 47,
   "metadata": {
    "colab": {
     "base_uri": "https://localhost:8080/",
     "height": 142
    },
    "id": "82PiIa3V4LIn",
    "outputId": "57864577-80c6-4156-d25d-56db0e69af88"
   },
   "outputs": [
    {
     "data": {
      "text/html": [
       "<div>\n",
       "<style scoped>\n",
       "    .dataframe tbody tr th:only-of-type {\n",
       "        vertical-align: middle;\n",
       "    }\n",
       "\n",
       "    .dataframe tbody tr th {\n",
       "        vertical-align: top;\n",
       "    }\n",
       "\n",
       "    .dataframe thead th {\n",
       "        text-align: right;\n",
       "    }\n",
       "</style>\n",
       "<table border=\"1\" class=\"dataframe\">\n",
       "  <thead>\n",
       "    <tr style=\"text-align: right;\">\n",
       "      <th></th>\n",
       "      <th>gender</th>\n",
       "      <th>gender_perc</th>\n",
       "      <th>gender_1</th>\n",
       "      <th>gender_perc_1</th>\n",
       "    </tr>\n",
       "  </thead>\n",
       "  <tbody>\n",
       "    <tr>\n",
       "      <th>Female</th>\n",
       "      <td>2897</td>\n",
       "      <td>59.01</td>\n",
       "      <td>120.00</td>\n",
       "      <td>57.42</td>\n",
       "    </tr>\n",
       "    <tr>\n",
       "      <th>Male</th>\n",
       "      <td>2011</td>\n",
       "      <td>40.97</td>\n",
       "      <td>89.00</td>\n",
       "      <td>42.58</td>\n",
       "    </tr>\n",
       "    <tr>\n",
       "      <th>Other</th>\n",
       "      <td>1</td>\n",
       "      <td>0.02</td>\n",
       "      <td>NaN</td>\n",
       "      <td>NaN</td>\n",
       "    </tr>\n",
       "  </tbody>\n",
       "</table>\n",
       "</div>"
      ],
      "text/plain": [
       "        gender  gender_perc  gender_1  gender_perc_1\n",
       "Female    2897        59.01    120.00          57.42\n",
       "Male      2011        40.97     89.00          42.58\n",
       "Other        1         0.02       NaN            NaN"
      ]
     },
     "execution_count": 47,
     "metadata": {},
     "output_type": "execute_result"
    }
   ],
   "source": [
    "gender[\"gender_1\"] = gender_1.value_counts()\n",
    "gender[\"gender_perc_1\"] = gender[\"gender_1\"] / gender[\"gender_1\"].sum() * 100\n",
    "\n",
    "gender"
   ]
  },
  {
   "cell_type": "code",
   "execution_count": 48,
   "metadata": {
    "colab": {
     "base_uri": "https://localhost:8080/",
     "height": 142
    },
    "id": "xyFG4-_0-wnP",
    "outputId": "a029cd42-c451-4436-8bdb-345c45107490"
   },
   "outputs": [
    {
     "data": {
      "text/html": [
       "<div>\n",
       "<style scoped>\n",
       "    .dataframe tbody tr th:only-of-type {\n",
       "        vertical-align: middle;\n",
       "    }\n",
       "\n",
       "    .dataframe tbody tr th {\n",
       "        vertical-align: top;\n",
       "    }\n",
       "\n",
       "    .dataframe thead th {\n",
       "        text-align: right;\n",
       "    }\n",
       "</style>\n",
       "<table border=\"1\" class=\"dataframe\">\n",
       "  <thead>\n",
       "    <tr style=\"text-align: right;\">\n",
       "      <th></th>\n",
       "      <th>gender</th>\n",
       "      <th>gender_perc</th>\n",
       "      <th>gender_1</th>\n",
       "      <th>gender_perc_1</th>\n",
       "      <th>gender_0</th>\n",
       "    </tr>\n",
       "  </thead>\n",
       "  <tbody>\n",
       "    <tr>\n",
       "      <th>Female</th>\n",
       "      <td>2897</td>\n",
       "      <td>59.01</td>\n",
       "      <td>120.00</td>\n",
       "      <td>57.42</td>\n",
       "      <td>2777.00</td>\n",
       "    </tr>\n",
       "    <tr>\n",
       "      <th>Male</th>\n",
       "      <td>2011</td>\n",
       "      <td>40.97</td>\n",
       "      <td>89.00</td>\n",
       "      <td>42.58</td>\n",
       "      <td>1922.00</td>\n",
       "    </tr>\n",
       "    <tr>\n",
       "      <th>Other</th>\n",
       "      <td>1</td>\n",
       "      <td>0.02</td>\n",
       "      <td>NaN</td>\n",
       "      <td>NaN</td>\n",
       "      <td>NaN</td>\n",
       "    </tr>\n",
       "  </tbody>\n",
       "</table>\n",
       "</div>"
      ],
      "text/plain": [
       "        gender  gender_perc  gender_1  gender_perc_1  gender_0\n",
       "Female    2897        59.01    120.00          57.42   2777.00\n",
       "Male      2011        40.97     89.00          42.58   1922.00\n",
       "Other        1         0.02       NaN            NaN       NaN"
      ]
     },
     "execution_count": 48,
     "metadata": {},
     "output_type": "execute_result"
    }
   ],
   "source": [
    "# Incluindo uma coluna com relação por gênero dos indivíduos que não tiveram AVC\n",
    "\n",
    "gender['gender_0'] = gender['gender'] - gender['gender_1']\n",
    "gender"
   ]
  },
  {
   "cell_type": "markdown",
   "metadata": {
    "id": "j2zvDBgS4LIp"
   },
   "source": [
    "## 8. Em Relação ao Estado Civil"
   ]
  },
  {
   "cell_type": "code",
   "execution_count": 49,
   "metadata": {
    "colab": {
     "base_uri": "https://localhost:8080/"
    },
    "id": "ugyqSzS84LIp",
    "outputId": "8ccab8a5-f1bf-49eb-d588-3ceafcc7a01d",
    "scrolled": true
   },
   "outputs": [
    {
     "data": {
      "text/plain": [
       "0    Casou\n",
       "2    Casou\n",
       "3    Casou\n",
       "4    Casou\n",
       "5    Casou\n",
       "Name: ever_married, dtype: object"
      ]
     },
     "execution_count": 49,
     "metadata": {},
     "output_type": "execute_result"
    }
   ],
   "source": [
    "married = db[\"ever_married\"].map({1: 'Casou', 0: 'Não casou'})\n",
    "married.head()"
   ]
  },
  {
   "cell_type": "code",
   "execution_count": 50,
   "metadata": {
    "colab": {
     "base_uri": "https://localhost:8080/",
     "height": 111
    },
    "id": "byw6pgAT4LIq",
    "outputId": "ea9d7963-4009-4af9-8b0c-724c47334aca"
   },
   "outputs": [
    {
     "data": {
      "text/html": [
       "<div>\n",
       "<style scoped>\n",
       "    .dataframe tbody tr th:only-of-type {\n",
       "        vertical-align: middle;\n",
       "    }\n",
       "\n",
       "    .dataframe tbody tr th {\n",
       "        vertical-align: top;\n",
       "    }\n",
       "\n",
       "    .dataframe thead th {\n",
       "        text-align: right;\n",
       "    }\n",
       "</style>\n",
       "<table border=\"1\" class=\"dataframe\">\n",
       "  <thead>\n",
       "    <tr style=\"text-align: right;\">\n",
       "      <th></th>\n",
       "      <th>ever_married</th>\n",
       "    </tr>\n",
       "  </thead>\n",
       "  <tbody>\n",
       "    <tr>\n",
       "      <th>Casou</th>\n",
       "      <td>3204</td>\n",
       "    </tr>\n",
       "    <tr>\n",
       "      <th>Não casou</th>\n",
       "      <td>1705</td>\n",
       "    </tr>\n",
       "  </tbody>\n",
       "</table>\n",
       "</div>"
      ],
      "text/plain": [
       "           ever_married\n",
       "Casou              3204\n",
       "Não casou          1705"
      ]
     },
     "execution_count": 50,
     "metadata": {},
     "output_type": "execute_result"
    }
   ],
   "source": [
    "# Verificando a prevalência de pessoas que já foram casadas na base de dados\n",
    "\n",
    "married = married.value_counts().to_frame()\n",
    "married"
   ]
  },
  {
   "cell_type": "code",
   "execution_count": 51,
   "metadata": {
    "colab": {
     "base_uri": "https://localhost:8080/",
     "height": 111
    },
    "id": "FZjjXdfy4LIr",
    "outputId": "c89ab7f9-0e1f-4875-d4a4-60294b19f6dc"
   },
   "outputs": [
    {
     "data": {
      "text/html": [
       "<div>\n",
       "<style scoped>\n",
       "    .dataframe tbody tr th:only-of-type {\n",
       "        vertical-align: middle;\n",
       "    }\n",
       "\n",
       "    .dataframe tbody tr th {\n",
       "        vertical-align: top;\n",
       "    }\n",
       "\n",
       "    .dataframe thead th {\n",
       "        text-align: right;\n",
       "    }\n",
       "</style>\n",
       "<table border=\"1\" class=\"dataframe\">\n",
       "  <thead>\n",
       "    <tr style=\"text-align: right;\">\n",
       "      <th></th>\n",
       "      <th>ever_married</th>\n",
       "      <th>married_perc</th>\n",
       "    </tr>\n",
       "  </thead>\n",
       "  <tbody>\n",
       "    <tr>\n",
       "      <th>Casou</th>\n",
       "      <td>3204</td>\n",
       "      <td>65.27</td>\n",
       "    </tr>\n",
       "    <tr>\n",
       "      <th>Não casou</th>\n",
       "      <td>1705</td>\n",
       "      <td>34.73</td>\n",
       "    </tr>\n",
       "  </tbody>\n",
       "</table>\n",
       "</div>"
      ],
      "text/plain": [
       "           ever_married  married_perc\n",
       "Casou              3204         65.27\n",
       "Não casou          1705         34.73"
      ]
     },
     "execution_count": 51,
     "metadata": {},
     "output_type": "execute_result"
    }
   ],
   "source": [
    "# Incluindo a porcentagem de ocorrência\n",
    "\n",
    "married[\"married_perc\"] = married[\"ever_married\"] / married[\"ever_married\"].sum() * 100\n",
    "married"
   ]
  },
  {
   "cell_type": "code",
   "execution_count": 52,
   "metadata": {
    "colab": {
     "base_uri": "https://localhost:8080/"
    },
    "id": "cJvVWaH34LIs",
    "outputId": "4fb6ca79-f41a-407f-b9dc-337de914fa74",
    "scrolled": true
   },
   "outputs": [
    {
     "data": {
      "text/plain": [
       "0    Casou\n",
       "2    Casou\n",
       "3    Casou\n",
       "4    Casou\n",
       "5    Casou\n",
       "Name: ever_married, dtype: object"
      ]
     },
     "execution_count": 52,
     "metadata": {},
     "output_type": "execute_result"
    }
   ],
   "source": [
    "married_1 = stroke_1[\"ever_married\"].map({1:'Casou', 0:'Não casou'})\n",
    "married_1.head()"
   ]
  },
  {
   "cell_type": "code",
   "execution_count": 53,
   "metadata": {
    "colab": {
     "base_uri": "https://localhost:8080/",
     "height": 111
    },
    "id": "6vW64HMN4LIs",
    "outputId": "f95cc03a-c1b3-4811-aee2-c3f2ebb11c9c",
    "scrolled": true
   },
   "outputs": [
    {
     "data": {
      "text/html": [
       "<div>\n",
       "<style scoped>\n",
       "    .dataframe tbody tr th:only-of-type {\n",
       "        vertical-align: middle;\n",
       "    }\n",
       "\n",
       "    .dataframe tbody tr th {\n",
       "        vertical-align: top;\n",
       "    }\n",
       "\n",
       "    .dataframe thead th {\n",
       "        text-align: right;\n",
       "    }\n",
       "</style>\n",
       "<table border=\"1\" class=\"dataframe\">\n",
       "  <thead>\n",
       "    <tr style=\"text-align: right;\">\n",
       "      <th></th>\n",
       "      <th>ever_married</th>\n",
       "      <th>married_perc</th>\n",
       "      <th>ever_married_1</th>\n",
       "      <th>married_perc_1</th>\n",
       "    </tr>\n",
       "  </thead>\n",
       "  <tbody>\n",
       "    <tr>\n",
       "      <th>Casou</th>\n",
       "      <td>3204</td>\n",
       "      <td>65.27</td>\n",
       "      <td>186</td>\n",
       "      <td>89.00</td>\n",
       "    </tr>\n",
       "    <tr>\n",
       "      <th>Não casou</th>\n",
       "      <td>1705</td>\n",
       "      <td>34.73</td>\n",
       "      <td>23</td>\n",
       "      <td>11.00</td>\n",
       "    </tr>\n",
       "  </tbody>\n",
       "</table>\n",
       "</div>"
      ],
      "text/plain": [
       "           ever_married  married_perc  ever_married_1  married_perc_1\n",
       "Casou              3204         65.27             186           89.00\n",
       "Não casou          1705         34.73              23           11.00"
      ]
     },
     "execution_count": 53,
     "metadata": {},
     "output_type": "execute_result"
    }
   ],
   "source": [
    "# Verificando a prevalência de pessoas que já foram casadas nas entradas em que houveram a ocorrência de AVC\n",
    "# Incluindo a porcentagem no dataframe\n",
    "\n",
    "married[\"ever_married_1\"] = married_1.value_counts()\n",
    "married[\"married_perc_1\"] = married[\"ever_married_1\"] / married[\"ever_married_1\"].sum() * 100\n",
    "\n",
    "married"
   ]
  },
  {
   "cell_type": "markdown",
   "metadata": {
    "id": "V2XvXzM34LIt"
   },
   "source": [
    "## 9. Tipo de Trabalho "
   ]
  },
  {
   "cell_type": "code",
   "execution_count": 54,
   "metadata": {
    "colab": {
     "base_uri": "https://localhost:8080/"
    },
    "id": "C_cRyqGO4LIt",
    "outputId": "fcea777c-a266-4718-bb51-de62d2838b0a"
   },
   "outputs": [
    {
     "data": {
      "text/plain": [
       "0          Private\n",
       "2          Private\n",
       "3          Private\n",
       "4    Self-employed\n",
       "5          Private\n",
       "Name: work_type, dtype: object"
      ]
     },
     "execution_count": 54,
     "metadata": {},
     "output_type": "execute_result"
    }
   ],
   "source": [
    "work = db[\"work_type\"]\n",
    "work.head()"
   ]
  },
  {
   "cell_type": "code",
   "execution_count": 55,
   "metadata": {
    "colab": {
     "base_uri": "https://localhost:8080/",
     "height": 204
    },
    "id": "bVDT7e6-4LIt",
    "outputId": "3b878f13-658d-48d7-cc47-3407159f1a0b"
   },
   "outputs": [
    {
     "data": {
      "text/html": [
       "<div>\n",
       "<style scoped>\n",
       "    .dataframe tbody tr th:only-of-type {\n",
       "        vertical-align: middle;\n",
       "    }\n",
       "\n",
       "    .dataframe tbody tr th {\n",
       "        vertical-align: top;\n",
       "    }\n",
       "\n",
       "    .dataframe thead th {\n",
       "        text-align: right;\n",
       "    }\n",
       "</style>\n",
       "<table border=\"1\" class=\"dataframe\">\n",
       "  <thead>\n",
       "    <tr style=\"text-align: right;\">\n",
       "      <th></th>\n",
       "      <th>work_type</th>\n",
       "    </tr>\n",
       "  </thead>\n",
       "  <tbody>\n",
       "    <tr>\n",
       "      <th>Private</th>\n",
       "      <td>2811</td>\n",
       "    </tr>\n",
       "    <tr>\n",
       "      <th>Self-employed</th>\n",
       "      <td>775</td>\n",
       "    </tr>\n",
       "    <tr>\n",
       "      <th>children</th>\n",
       "      <td>671</td>\n",
       "    </tr>\n",
       "    <tr>\n",
       "      <th>Govt_job</th>\n",
       "      <td>630</td>\n",
       "    </tr>\n",
       "    <tr>\n",
       "      <th>Never_worked</th>\n",
       "      <td>22</td>\n",
       "    </tr>\n",
       "  </tbody>\n",
       "</table>\n",
       "</div>"
      ],
      "text/plain": [
       "               work_type\n",
       "Private             2811\n",
       "Self-employed        775\n",
       "children             671\n",
       "Govt_job             630\n",
       "Never_worked          22"
      ]
     },
     "execution_count": 55,
     "metadata": {},
     "output_type": "execute_result"
    }
   ],
   "source": [
    "work = work.value_counts().to_frame()\n",
    "work"
   ]
  },
  {
   "cell_type": "code",
   "execution_count": 56,
   "metadata": {
    "colab": {
     "base_uri": "https://localhost:8080/",
     "height": 204
    },
    "id": "-EslzU7S4LIu",
    "outputId": "f24f016b-6c34-4a14-e2d5-cf35837bcda3"
   },
   "outputs": [
    {
     "data": {
      "text/html": [
       "<div>\n",
       "<style scoped>\n",
       "    .dataframe tbody tr th:only-of-type {\n",
       "        vertical-align: middle;\n",
       "    }\n",
       "\n",
       "    .dataframe tbody tr th {\n",
       "        vertical-align: top;\n",
       "    }\n",
       "\n",
       "    .dataframe thead th {\n",
       "        text-align: right;\n",
       "    }\n",
       "</style>\n",
       "<table border=\"1\" class=\"dataframe\">\n",
       "  <thead>\n",
       "    <tr style=\"text-align: right;\">\n",
       "      <th></th>\n",
       "      <th>work_type</th>\n",
       "      <th>work_perc</th>\n",
       "    </tr>\n",
       "  </thead>\n",
       "  <tbody>\n",
       "    <tr>\n",
       "      <th>Private</th>\n",
       "      <td>2811</td>\n",
       "      <td>57.26</td>\n",
       "    </tr>\n",
       "    <tr>\n",
       "      <th>Self-employed</th>\n",
       "      <td>775</td>\n",
       "      <td>15.79</td>\n",
       "    </tr>\n",
       "    <tr>\n",
       "      <th>children</th>\n",
       "      <td>671</td>\n",
       "      <td>13.67</td>\n",
       "    </tr>\n",
       "    <tr>\n",
       "      <th>Govt_job</th>\n",
       "      <td>630</td>\n",
       "      <td>12.83</td>\n",
       "    </tr>\n",
       "    <tr>\n",
       "      <th>Never_worked</th>\n",
       "      <td>22</td>\n",
       "      <td>0.45</td>\n",
       "    </tr>\n",
       "  </tbody>\n",
       "</table>\n",
       "</div>"
      ],
      "text/plain": [
       "               work_type  work_perc\n",
       "Private             2811      57.26\n",
       "Self-employed        775      15.79\n",
       "children             671      13.67\n",
       "Govt_job             630      12.83\n",
       "Never_worked          22       0.45"
      ]
     },
     "execution_count": 56,
     "metadata": {},
     "output_type": "execute_result"
    }
   ],
   "source": [
    "# Incluindo a porcentagem de ocorrência por tipo de trabalho\n",
    "\n",
    "work[\"work_perc\"] = work[\"work_type\"] / work[\"work_type\"].sum() * 100\n",
    "work"
   ]
  },
  {
   "cell_type": "code",
   "execution_count": 57,
   "metadata": {
    "colab": {
     "base_uri": "https://localhost:8080/"
    },
    "id": "Uniu0Cpv4LIu",
    "outputId": "fa5db840-cffb-4d78-cd78-fb635fe5bb53"
   },
   "outputs": [
    {
     "data": {
      "text/plain": [
       "0          Private\n",
       "2          Private\n",
       "3          Private\n",
       "4    Self-employed\n",
       "5          Private\n",
       "Name: work_type, dtype: object"
      ]
     },
     "execution_count": 57,
     "metadata": {},
     "output_type": "execute_result"
    }
   ],
   "source": [
    "work_1 = stroke_1[\"work_type\"]\n",
    "work_1.head()"
   ]
  },
  {
   "cell_type": "code",
   "execution_count": 58,
   "metadata": {
    "colab": {
     "base_uri": "https://localhost:8080/",
     "height": 204
    },
    "id": "lQErWDEf4LIv",
    "outputId": "889a5498-92ee-4cd7-8692-182f6f286a0a"
   },
   "outputs": [
    {
     "data": {
      "text/html": [
       "<div>\n",
       "<style scoped>\n",
       "    .dataframe tbody tr th:only-of-type {\n",
       "        vertical-align: middle;\n",
       "    }\n",
       "\n",
       "    .dataframe tbody tr th {\n",
       "        vertical-align: top;\n",
       "    }\n",
       "\n",
       "    .dataframe thead th {\n",
       "        text-align: right;\n",
       "    }\n",
       "</style>\n",
       "<table border=\"1\" class=\"dataframe\">\n",
       "  <thead>\n",
       "    <tr style=\"text-align: right;\">\n",
       "      <th></th>\n",
       "      <th>work_type</th>\n",
       "      <th>work_perc</th>\n",
       "      <th>work_type_1</th>\n",
       "      <th>work_perc_1</th>\n",
       "    </tr>\n",
       "  </thead>\n",
       "  <tbody>\n",
       "    <tr>\n",
       "      <th>Private</th>\n",
       "      <td>2811</td>\n",
       "      <td>57.26</td>\n",
       "      <td>127.00</td>\n",
       "      <td>60.77</td>\n",
       "    </tr>\n",
       "    <tr>\n",
       "      <th>Self-employed</th>\n",
       "      <td>775</td>\n",
       "      <td>15.79</td>\n",
       "      <td>53.00</td>\n",
       "      <td>25.36</td>\n",
       "    </tr>\n",
       "    <tr>\n",
       "      <th>children</th>\n",
       "      <td>671</td>\n",
       "      <td>13.67</td>\n",
       "      <td>1.00</td>\n",
       "      <td>0.48</td>\n",
       "    </tr>\n",
       "    <tr>\n",
       "      <th>Govt_job</th>\n",
       "      <td>630</td>\n",
       "      <td>12.83</td>\n",
       "      <td>28.00</td>\n",
       "      <td>13.40</td>\n",
       "    </tr>\n",
       "    <tr>\n",
       "      <th>Never_worked</th>\n",
       "      <td>22</td>\n",
       "      <td>0.45</td>\n",
       "      <td>NaN</td>\n",
       "      <td>NaN</td>\n",
       "    </tr>\n",
       "  </tbody>\n",
       "</table>\n",
       "</div>"
      ],
      "text/plain": [
       "               work_type  work_perc  work_type_1  work_perc_1\n",
       "Private             2811      57.26       127.00        60.77\n",
       "Self-employed        775      15.79        53.00        25.36\n",
       "children             671      13.67         1.00         0.48\n",
       "Govt_job             630      12.83        28.00        13.40\n",
       "Never_worked          22       0.45          NaN          NaN"
      ]
     },
     "execution_count": 58,
     "metadata": {},
     "output_type": "execute_result"
    }
   ],
   "source": [
    "# Verificando a prevalência pelo tipo de trabalho das entradas em que houveram a ocorrência de AVC\n",
    "# Incluindo a porcentagem no dataframe\n",
    "\n",
    "work[\"work_type_1\"] = work_1.value_counts()\n",
    "work[\"work_perc_1\"] = work[\"work_type_1\"] / work[\"work_type_1\"].sum() * 100\n",
    "\n",
    "work"
   ]
  },
  {
   "cell_type": "markdown",
   "metadata": {},
   "source": [
    "# Vizualização dos Dados"
   ]
  },
  {
   "cell_type": "code",
   "execution_count": 59,
   "metadata": {},
   "outputs": [
    {
     "data": {
      "image/png": "[encoded data removed]",
      "text/plain": [
       "<Figure size 432x288 with 1 Axes>"
      ]
     },
     "metadata": {
      "needs_background": "light"
     },
     "output_type": "display_data"
    }
   ],
   "source": [
    "age.hist();\n",
    "plt.title(\"Frequência das idades dos participantes da pesquisa\");"
   ]
  },
  {
   "cell_type": "code",
   "execution_count": 60,
   "metadata": {},
   "outputs": [
    {
     "data": {
      "image/png": "[encoded data removed]",
      "text/plain": [
       "<Figure size 360x360 with 1 Axes>"
      ]
     },
     "metadata": {
      "needs_background": "light"
     },
     "output_type": "display_data"
    }
   ],
   "source": [
    "sns.displot(age_1,x=\"age\",binwidth = 10)\n",
    "plt.title(\"Distribuição de idade dos indivíduos que tiveram AVC\");"
   ]
  },
  {
   "cell_type": "code",
   "execution_count": 61,
   "metadata": {},
   "outputs": [
    {
     "data": {
      "image/png": "[encoded data removed]",
      "text/plain": [
       "<Figure size 504x360 with 1 Axes>"
      ]
     },
     "metadata": {
      "needs_background": "light"
     },
     "output_type": "display_data"
    }
   ],
   "source": [
    "age_1_count = age_1.value_counts().reset_index()\n",
    "\n",
    "age_1_count_jovens = age_1_count[age_1_count.age < 19]\n",
    "age_1_count_adulto = age_1_count[age_1_count.age < 60].sum() - age_1_count_jovens\n",
    "age_1_count_idoso = age_1_count[age_1_count.age > 59].sum()\n",
    "\n",
    "age_group = pd.DataFrame([{\"Jovens\": age_1_count_jovens.iloc[0,1],\n",
    "                           \"Adultos\": age_1_count_adulto.iloc[0,1],\n",
    "                           \"Idosos\":age_1_count_idoso[0]}])\n",
    "age_group = age_group.rename({0 :\"\"}, axis='index')\n",
    "\n",
    "age_group.plot.bar(rot=0, title='Idade dos indivíduos que tiveram AVC por faixa etária',\n",
    "                   figsize=(7,5), ylabel='Ocorrência' , xlabel='Faixa étaria');"
   ]
  },
  {
   "cell_type": "markdown",
   "metadata": {},
   "source": [
    "Nos gráficos acima verificamos as ocorrências de AVC conforme a idade, ficando nítido que, com o aumento da idade se intensifica os casos de AVC, demonstrando assim uma correlação entre idade e o risco de AVC, sendo, portanto, os idosos os mais afetados."
   ]
  },
  {
   "cell_type": "code",
   "execution_count": 62,
   "metadata": {},
   "outputs": [
    {
     "data": {
      "image/png": "[encoded data removed]",
      "text/plain": [
       "<Figure size 360x360 with 1 Axes>"
      ]
     },
     "metadata": {
      "needs_background": "light"
     },
     "output_type": "display_data"
    }
   ],
   "source": [
    "sns.displot(age_0,x=\"age\",binwidth = 10);\n",
    "plt.title(\"Distribuição de idade dos indivíduos que não tiveram AVC\\n\");"
   ]
  },
  {
   "cell_type": "code",
   "execution_count": 63,
   "metadata": {},
   "outputs": [
    {
     "data": {
      "image/png": "[encoded data removed]",
      "text/plain": [
       "<Figure size 504x360 with 1 Axes>"
      ]
     },
     "metadata": {
      "needs_background": "light"
     },
     "output_type": "display_data"
    }
   ],
   "source": [
    "age_0_count = age_0.value_counts().reset_index()\n",
    "\n",
    "age_0_count_jovens = age_0_count[age_0_count.age < 19].sum()\n",
    "age_0_count_adulto = age_0_count[age_0_count.age < 60].sum() - age_0_count_jovens\n",
    "age_0_count_idoso = age_0_count[age_0_count.age > 59].sum()\n",
    "\n",
    "age_0_group = pd.DataFrame([{\"Jovens\": age_0_count_jovens[0],\n",
    "                             \"Adultos\": age_0_count_adulto[0],\n",
    "                             \"Idosos\": age_0_count_idoso[0]}])\n",
    "age_0_group = age_0_group.rename({0 :\"\"}, axis='index')\n",
    "\n",
    "age_0_group.plot.bar(rot=0, title='Idade dos indivíduos que não tiveram AVC por faixa etária',\n",
    "                     figsize=(7,5), ylabel='Não ocôrrencia' , xlabel='Faixa étaria');"
   ]
  },
  {
   "cell_type": "code",
   "execution_count": 64,
   "metadata": {},
   "outputs": [
    {
     "data": {
      "image/png": "[encoded data removed]",
      "text/plain": [
       "<Figure size 432x288 with 1 Axes>"
      ]
     },
     "metadata": {
      "needs_background": "light"
     },
     "output_type": "display_data"
    }
   ],
   "source": [
    "glicose.hist();\n",
    "plt.title(\"Frequência do nível de glicose auferido nos participantes da pesquisa\");"
   ]
  },
  {
   "cell_type": "code",
   "execution_count": 65,
   "metadata": {},
   "outputs": [
    {
     "data": {
      "image/png": "[encoded data removed]",
      "text/plain": [
       "<Figure size 720x360 with 1 Axes>"
      ]
     },
     "metadata": {
      "needs_background": "light"
     },
     "output_type": "display_data"
    }
   ],
   "source": [
    "sns.displot(glicose_1,x=\"avg_glucose_level\",binwidth = 10, height=5, aspect=2)\n",
    "plt.title(\"Distribuição do nível de glicose nos indivíduos que tiveram AVC\");"
   ]
  },
  {
   "cell_type": "code",
   "execution_count": 69,
   "metadata": {},
   "outputs": [
    {
     "data": {
      "image/png": "[encoded data removed]",
      "text/plain": [
       "<Figure size 504x360 with 1 Axes>"
      ]
     },
     "metadata": {
      "needs_background": "light"
     },
     "output_type": "display_data"
    }
   ],
   "source": [
    "glicose_1_count = glicose_1.value_counts().reset_index()\n",
    "\n",
    "glicose_1_count_baixa = glicose_1_count[glicose_1_count.avg_glucose_level < 71].sum()\n",
    "glicose_1_count_normal = glicose_1_count[glicose_1_count.avg_glucose_level < 100].sum() - glicose_1_count_baixa\n",
    "glicose_1_count_alta = glicose_1_count[glicose_1_count.avg_glucose_level > 125].sum()\n",
    "\n",
    "df_glicose_1_count = pd.DataFrame([{\"Hipoglicemia\": glicose_1_count_baixa[0],\n",
    "                                    \"Normal\": glicose_1_count_normal[0],\n",
    "                                    \"Diabetes\":glicose_1_count_alta[0]}])\n",
    "df_glicose_1_count = df_glicose_1_count.rename({0 :\"\"}, axis='index')\n",
    "\n",
    "df_glicose_1_count.plot.bar(rot=0, title='Indivíduos que sofreram AVC de acordo com o nível de glicose',\n",
    "                            figsize=(7,5), ylabel='Ocôrrencia de AVC' , xlabel='Nivel de glicose');"
   ]
  },
  {
   "cell_type": "markdown",
   "metadata": {},
   "source": [
    "Ao analisar os gráficos acima, nota-se uma tendência ao aumento nos casos de AVC com relação ao nivel de glicose. Pode-se inferir, pelos gráficos acima, que, indíviduos que sofrem de diabetes têm uma forte tendência a também sofrer de AVC."
   ]
  },
  {
   "cell_type": "code",
   "execution_count": 67,
   "metadata": {},
   "outputs": [
    {
     "data": {
      "image/png": "[encoded data removed]",
      "text/plain": [
       "<Figure size 720x360 with 1 Axes>"
      ]
     },
     "metadata": {
      "needs_background": "light"
     },
     "output_type": "display_data"
    }
   ],
   "source": [
    "sns.displot(glicose_0,x=\"avg_glucose_level\",binwidth = 10, aspect=2)\n",
    "plt.title(\"Distribuição do nível de glicose nos indivíduos que não tiveram AVC\");"
   ]
  },
  {
   "cell_type": "code",
   "execution_count": 70,
   "metadata": {},
   "outputs": [
    {
     "data": {
      "image/png": "[encoded data removed]",
      "text/plain": [
       "<Figure size 504x360 with 1 Axes>"
      ]
     },
     "metadata": {
      "needs_background": "light"
     },
     "output_type": "display_data"
    }
   ],
   "source": [
    "glicose_0_count = glicose_0.value_counts().reset_index()\n",
    "\n",
    "glicose_0_count_baixa = glicose_0_count[glicose_0_count.avg_glucose_level < 71].sum()\n",
    "glicose_0_count_normal = glicose_0_count[glicose_0_count.avg_glucose_level < 100].sum() - glicose_0_count_baixa\n",
    "glicose_0_count_alta = glicose_0_count[glicose_0_count.avg_glucose_level > 125].sum()\n",
    "\n",
    "df_glicose_0_count = pd.DataFrame([{\"Hipoglicemia\": glicose_0_count_baixa[0],\n",
    "                                    \"Normal\": glicose_0_count_normal[0],\n",
    "                                    \"Diabetes\":glicose_0_count_alta[0]}])\n",
    "df_glicose_0_count = df_glicose_0_count.rename({0 :\"\"}, axis='index')\n",
    "\n",
    "df_glicose_0_count.plot.bar(rot=0, title='Indivíduos que não sofreram AVC de acordo com o nível de glicose',\n",
    "                            figsize=(7,5), ylabel='Ocôrrencia de AVC' , xlabel='Nivel de glicose');"
   ]
  },
  {
   "cell_type": "code",
   "execution_count": 71,
   "metadata": {},
   "outputs": [
    {
     "data": {
      "image/png": "[encoded data removed]",
      "text/plain": [
       "<Figure size 576x432 with 1 Axes>"
      ]
     },
     "metadata": {
      "needs_background": "light"
     },
     "output_type": "display_data"
    }
   ],
   "source": [
    "smoke_status.plot.bar(rot=0, ylabel=\"Pessoas\", title=\"Indivíduos que sofreram AVC de acordo com o hábito de fumar\",\n",
    "                      figsize=(8,6));"
   ]
  },
  {
   "cell_type": "code",
   "execution_count": 72,
   "metadata": {},
   "outputs": [
    {
     "data": {
      "image/png": "[encoded data removed]",
      "text/plain": [
       "<Figure size 576x432 with 1 Axes>"
      ]
     },
     "metadata": {
      "needs_background": "light"
     },
     "output_type": "display_data"
    }
   ],
   "source": [
    "smoke_status.plot.bar(rot=0, ylabel =\"Pessoas\",title = \"Indivíduos que não sofreram AVC de acordo com o hábito de fumar\",\n",
    "                      figsize=(8,6));"
   ]
  },
  {
   "cell_type": "markdown",
   "metadata": {},
   "source": [
    "Dados demonstram que pessoas que fumam tem mais chances de ter AVC do que as que não tem esse hábito."
   ]
  },
  {
   "cell_type": "code",
   "execution_count": 73,
   "metadata": {},
   "outputs": [
    {
     "data": {
      "image/png": "[encoded data removed]",
      "text/plain": [
       "<Figure size 936x504 with 2 Axes>"
      ]
     },
     "metadata": {},
     "output_type": "display_data"
    }
   ],
   "source": [
    "# Pessoas que moram na cidade tem uma porcentagem maior de ter avc\n",
    "\n",
    "residence = pd.DataFrame({'Não teve AVC': residence_0[\"Residence_type\"], 'Teve AVC': residence_1[\"Residence_type\"]})\n",
    "residence = residence.plot.pie(subplots= True, figsize= (13,7), explode=(0, 0.03),\n",
    "                               autopct='%1.1f%%',colors= ['tab:gray','tab:olive'])\n",
    "\n",
    "residence[0].set_ylabel(\"\")\n",
    "residence[1].set_ylabel(\"\")\n",
    "residence[0].set_title(\"Não teve AVC\")\n",
    "residence[1].set_title(\"Teve AVC\");"
   ]
  },
  {
   "cell_type": "code",
   "execution_count": 74,
   "metadata": {},
   "outputs": [
    {
     "data": {
      "image/png": "[encoded data removed]",
      "text/plain": [
       "<Figure size 432x288 with 1 Axes>"
      ]
     },
     "metadata": {
      "needs_background": "light"
     },
     "output_type": "display_data"
    }
   ],
   "source": [
    "bmi_1.hist()\n",
    "plt.title(\"Frequência de IMC dos participantes da pesquisa\");"
   ]
  },
  {
   "cell_type": "code",
   "execution_count": 75,
   "metadata": {},
   "outputs": [
    {
     "data": {
      "image/png": "[encoded data removed]",
      "text/plain": [
       "<Figure size 536.814x379.44 with 1 Axes>"
      ]
     },
     "metadata": {
      "needs_background": "light"
     },
     "output_type": "display_data"
    }
   ],
   "source": [
    "bmi_group = bmi_1[\"bmi\"].value_counts()\n",
    "\n",
    "bmi_group_1 = bmi_group[bmi_group.index < 25].sum()\n",
    "bmi_group_2 = bmi_group[bmi_group.index < 30].sum() - bmi_group_1\n",
    "bmi_group_3 = bmi_group[bmi_group.index < 35].sum() -  (bmi_group_2 + bmi_group_1)\n",
    "bmi_group_4 = bmi_group[bmi_group.index > 34].sum()\n",
    "\n",
    "bmi_group_df = pd.DataFrame([{\"Normal\": bmi_group_1, \"Pré-Obeso\": bmi_group_2, \n",
    "                          \"Obesidade classe I\": bmi_group_3, \"Obesidade classe II\": bmi_group_4}])\n",
    "bmi_group_df = bmi_group_df.rename({0 :\"BMI\"}, axis='columns')\n",
    "bmi_group_df = sns.catplot(data=bmi_group_df,palette=\"ch:.25\", kind=\"bar\", height=5.27, aspect=11.7/8.27)\n",
    "bmi_group_df.set(xlabel='Categorias', ylabel='bmi', title='Pessoas que tiveram AVC e seu BMI (imc)');"
   ]
  },
  {
   "cell_type": "code",
   "execution_count": 76,
   "metadata": {},
   "outputs": [
    {
     "data": {
      "image/png": "[encoded data removed]",
      "text/plain": [
       "<Figure size 536.814x379.44 with 1 Axes>"
      ]
     },
     "metadata": {
      "needs_background": "light"
     },
     "output_type": "display_data"
    }
   ],
   "source": [
    "bmi_group_0 = bmi_0[\"bmi\"].value_counts().to_frame()\n",
    "\n",
    "bmi_group_0 = bmi_group_0.dropna()\n",
    "bmi1 = bmi_group_0[bmi_group_0.index < 25].sum()\n",
    "bmi2 = bmi_group_0[bmi_group_0.index < 30].sum() - bmi1\n",
    "bmi3 = bmi_group_0[bmi_group_0.index < 35].sum() -  (bmi2 + bmi1)\n",
    "bmi4 = bmi_group_0[bmi_group_0.index > 34].sum()\n",
    "\n",
    "df_bmi_group_0 = pd.DataFrame([{\"Normal\": bmi1[0], \"Pré-Obeso\": bmi2[0],\n",
    "                          \"Obesidade classe I\":bmi3[0], \"Obesidade classe II\": bmi4[0]}])\n",
    "\n",
    "ax = sns.catplot(data=df_bmi_group_0,palette=\"ch:.25\", kind=\"bar\", height=5.27, aspect=11.7/8.27)\n",
    "ax.set(xlabel='Categorias', ylabel='bmi', title='Pessoas que não tiveram AVC e seu BMI (imc)');"
   ]
  },
  {
   "cell_type": "code",
   "execution_count": 77,
   "metadata": {},
   "outputs": [
    {
     "data": {
      "image/png": "[encoded data removed]",
      "text/plain": [
       "<Figure size 936x432 with 2 Axes>"
      ]
     },
     "metadata": {},
     "output_type": "display_data"
    }
   ],
   "source": [
    "# Observamos que existe um número elevado de pessoas sem problemas do coração, o que prejudica a análise\n",
    "# Trabalhemos, portanto com percentual\n",
    "\n",
    "ax_heart = heart.plot.pie(subplots=True, figsize= (13,6), ylabel='', \n",
    "                          explode=(0, 0.1), autopct='%1.1f%%', colors=['tab:blue','tab:red']);\n",
    "\n",
    "ax_heart[0].set_title(\"Teve doença cardíaca\")\n",
    "ax_heart[1].set_title(\"Não teve doença cardíaca\");"
   ]
  },
  {
   "cell_type": "code",
   "execution_count": 78,
   "metadata": {},
   "outputs": [
    {
     "data": {
      "image/png": "[encoded data removed]",
      "text/plain": [
       "<Figure size 936x504 with 1 Axes>"
      ]
     },
     "metadata": {},
     "output_type": "display_data"
    }
   ],
   "source": [
    "gender[\"gender_perc_1\"].dropna().plot.pie(title=\"Percentual de pessoas que sofreram AVC por gênero\",\n",
    "                                 ylabel='', colors=['pink', 'lightblue'], autopct='%1.1f%%',\n",
    "                                 labels=[\"Feminino\", \"Masculino\", \"\"], figsize=(13,7));"
   ]
  },
  {
   "cell_type": "code",
   "execution_count": 79,
   "metadata": {},
   "outputs": [
    {
     "data": {
      "image/png": "[encoded data removed]",
      "text/plain": [
       "<Figure size 1080x360 with 2 Axes>"
      ]
     },
     "metadata": {
      "needs_background": "light"
     },
     "output_type": "display_data"
    }
   ],
   "source": [
    "fig, axes = plt.subplots(1, 2, figsize=(15, 5))\n",
    "fig.suptitle('Comparativo por gênero do universo e campo amostral da pesquisa')\n",
    "\n",
    "sns.barplot(ax=axes[0], x=gender.index, y='gender_perc', data=gender)\n",
    "axes[0].set_title('Percentual por gênero do universo da pesquisa')\n",
    "axes[0].set_ylabel('')\n",
    "\n",
    "sns.barplot(ax=axes[1], x=gender.index, y='gender_perc_1', data=gender)\n",
    "axes[1].set_title('Percentual por gênero dos indivíduos que sofreram AVC')\n",
    "axes[1].set_ylabel('');"
   ]
  },
  {
   "cell_type": "code",
   "execution_count": 80,
   "metadata": {},
   "outputs": [
    {
     "data": {
      "image/png": "[encoded data removed]",
      "text/plain": [
       "<Figure size 432x288 with 1 Axes>"
      ]
     },
     "metadata": {
      "needs_background": "light"
     },
     "output_type": "display_data"
    }
   ],
   "source": [
    "ax = gender[['gender_0', 'gender_1']].plot.bar(stacked=True)\n",
    "\n",
    "ax.legend([\"Não tiveram AVC\", \"Tiveram AVC\"])\n",
    "plt.title(\"Número absoluto de indivíduos pesquisados que tiveram ou não AVC\");"
   ]
  },
  {
   "cell_type": "code",
   "execution_count": 81,
   "metadata": {},
   "outputs": [
    {
     "data": {
      "image/png": "[encoded data removed]",
      "text/plain": [
       "<Figure size 720x504 with 1 Axes>"
      ]
     },
     "metadata": {},
     "output_type": "display_data"
    }
   ],
   "source": [
    "married[\"married_perc_1\"].plot.pie(title=\"\\nPercentual de pessoas que contrairam matrimônio dentre as que sofreram AVC\",\n",
    "                                   ylabel='', colormap=\"coolwarm\", figsize=(10,7),autopct='%1.1f%%');"
   ]
  },
  {
   "cell_type": "code",
   "execution_count": 83,
   "metadata": {},
   "outputs": [
    {
     "data": {
      "image/png": "[encoded data removed]",
      "text/plain": [
       "<Figure size 1440x576 with 2 Axes>"
      ]
     },
     "metadata": {
      "needs_background": "light"
     },
     "output_type": "display_data"
    }
   ],
   "source": [
    "fig, axes = plt.subplots(1, 2, figsize=(20, 8))\n",
    "fig.suptitle('Comparativo do universo e campo amostral da pesquisa')\n",
    "\n",
    "sns.barplot(ax=axes[0], x=married.index, y='married_perc', data=married)\n",
    "axes[0].set_title('Percentual de pessoas que já foram casadas no universo da pesquisa')\n",
    "axes[0].set_ylabel('')\n",
    "\n",
    "sns.barplot(ax=axes[1], x=married.index, y='married_perc_1', data=married)\n",
    "axes[1].set_title('Percentual de pessoas que já foram casadas dentre os indivíduos que sofreram AVC')\n",
    "axes[1].set_ylabel('');"
   ]
  },
  {
   "cell_type": "code",
   "execution_count": 84,
   "metadata": {},
   "outputs": [
    {
     "data": {
      "image/png": "[encoded data removed]",
      "text/plain": [
       "<Figure size 720x504 with 1 Axes>"
      ]
     },
     "metadata": {},
     "output_type": "display_data"
    }
   ],
   "source": [
    "work[\"work_perc_1\"].plot.pie(title=\"Percentual por tipo de profissão dentre as que sofreram AVC\", ylabel='',\n",
    "                             colormap=\"coolwarm\", figsize=(10,7));"
   ]
  },
  {
   "cell_type": "code",
   "execution_count": 85,
   "metadata": {},
   "outputs": [
    {
     "data": {
      "image/png": "[encoded data removed]",
      "text/plain": [
       "<Figure size 1440x576 with 2 Axes>"
      ]
     },
     "metadata": {
      "needs_background": "light"
     },
     "output_type": "display_data"
    }
   ],
   "source": [
    "fig, axes = plt.subplots(1, 2, figsize=(20, 8))\n",
    "fig.suptitle('Comparativo do universo e campo amostral da pesquisa')\n",
    "\n",
    "sns.barplot(ax=axes[0], x=work.index, y='work_perc', data=work)\n",
    "axes[0].set_title('Percentual por tipo de trabalho no universo da pesquisa')\n",
    "axes[0].set_ylabel('')\n",
    "\n",
    "sns.barplot(ax=axes[1], x=work.index, y='work_perc_1', data=work)\n",
    "axes[1].set_title('Percentual por tipo de trabalho dentre os indivíduos que sofreram AVC')\n",
    "axes[1].set_ylabel('');"
   ]
  }
 ],
 "metadata": {
  "colab": {
   "name": "exploratory_analysis_stroke.ipynb",
   "provenance": []
  },
  "kernelspec": {
   "display_name": "Python 3",
   "language": "python",
   "name": "python3"
  },
  "language_info": {
   "codemirror_mode": {
    "name": "ipython",
    "version": 3
   },
   "file_extension": ".py",
   "mimetype": "text/x-python",
   "name": "python",
   "nbconvert_exporter": "python",
   "pygments_lexer": "ipython3",
   "version": "3.7.6"
  }
 },
 "nbformat": 4,
 "nbformat_minor": 1
}
